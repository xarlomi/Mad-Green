{
 "cells": [
  {
   "cell_type": "code",
   "execution_count": 1,
   "metadata": {},
   "outputs": [],
   "source": [
    "from mongoconnection import *\n",
    "import pandas as pd"
   ]
  },
  {
   "cell_type": "code",
   "execution_count": 2,
   "metadata": {},
   "outputs": [],
   "source": [
    "dat = pd.read_csv('../data/cbd_info2.csv')"
   ]
  },
  {
   "cell_type": "code",
   "execution_count": 3,
   "metadata": {},
   "outputs": [],
   "source": [
    "def lista ():\n",
    "    a = dat.Effects.unique()\n",
    "    b = [i.split(\",\") for i in a]\n",
    "    z = []\n",
    "    for j in b:\n",
    "        for k in j:\n",
    "            z.append(k)\n",
    "            z = list(set(z))\n",
    "            for x in z:\n",
    "                if x == \"None\" or x==\"Dry\" or x==\"Mouth\":\n",
    "                    z.remove(x)\n",
    "    return z"
   ]
  },
  {
   "cell_type": "code",
   "execution_count": 4,
   "metadata": {},
   "outputs": [
    {
     "data": {
      "text/plain": [
       "1825"
      ]
     },
     "execution_count": 4,
     "metadata": {},
     "output_type": "execute_result"
    }
   ],
   "source": [
    "filt = {\"mood\":{\"$regex\":\"Happy\"}}\n",
    "project = {\"mood\":1, \"product\":1, \"_id\":0}\n",
    "result = db.cbd_info.find(filt, project)\n",
    "len(list(result))"
   ]
  },
  {
   "cell_type": "code",
   "execution_count": 5,
   "metadata": {},
   "outputs": [
    {
     "name": "stderr",
     "output_type": "stream",
     "text": [
      "<ipython-input-5-b31db318e967>:1: DeprecationWarning: count is deprecated. Use estimated_document_count or count_documents instead. Please note that $where must be replaced by $expr, $near must be replaced by $geoWithin with $center, and $nearSphere must be replaced by $geoWithin with $centerSphere\n",
      "  db.cbd_info.count({\"mood\": {\"$regex\": \"Relaxed\"}})\n"
     ]
    },
    {
     "data": {
      "text/plain": [
       "1693"
      ]
     },
     "execution_count": 5,
     "metadata": {},
     "output_type": "execute_result"
    }
   ],
   "source": [
    "db.cbd_info.count({\"mood\": {\"$regex\": \"Relaxed\"}})"
   ]
  },
  {
   "cell_type": "code",
   "execution_count": 18,
   "metadata": {},
   "outputs": [],
   "source": [
    "def check_exists(query, collection, *pro):\n",
    "    res = read_coll(collection, query, pro)\n",
    "    if len(res) > 0:\n",
    "        return True\n",
    "    else:\n",
    "        return False"
   ]
  },
  {
   "cell_type": "code",
   "execution_count": 67,
   "metadata": {},
   "outputs": [],
   "source": [
    "def convert(row):\n",
    "    #print(row)\n",
    "    return '<a href=\"{}\">{}</a>'.format(row['shop'],  row.name)"
   ]
  },
  {
   "cell_type": "code",
   "execution_count": 70,
   "metadata": {
    "scrolled": true
   },
   "outputs": [],
   "source": [
    "def shop_mood(moods):\n",
    "    \"\"\"\n",
    "    This queries one collection to another and returns a DF with the \n",
    "    available CBD product given the mood chosen by user\n",
    "    \"\"\"\n",
    "    filt = {\"mood\":{\"$regex\":f\"{moods}\"}}\n",
    "    project = {\"_id\":0, \"product\":1}\n",
    "    result = db.cbd_info.find(filt, project)\n",
    "    results= list(result)\n",
    "    \n",
    "    lista_res = []\n",
    "    for i in results:\n",
    "        q = {\"product\":i[\"product\"]}\n",
    "        pro = {\"_id\":0} \n",
    "        if check_exists(q, \"cbd_shops\"):\n",
    "            lista_res.append(read_coll(\"cbd_shops\",q,  pro))\n",
    "            flat_list = [item for sublist in lista_res for item in sublist]\n",
    "            df = pd.DataFrame(flat_list)\n",
    "            df[\"shop\"] = df.apply(convert, axis=1)\n",
    "            df.style.format({'shop': convert})\n",
    "                    \n",
    "    return df\n"
   ]
  },
  {
   "cell_type": "code",
   "execution_count": 74,
   "metadata": {
    "scrolled": true
   },
   "outputs": [],
   "source": [
    "def shop_mood(moods):\n",
    "    filt = {\"mood\":{\"$regex\":f\"{moods}\"}}\n",
    "    project = {\"_id\":0, \"product\":1}\n",
    "    result = db.cbd_info.find(filt, project)\n",
    "    results= list(result)\n",
    "    \n",
    "    lista_res = []\n",
    "    for i in results:\n",
    "        q = {\"product\":i[\"product\"]}\n",
    "        pro = {\"_id\":0} \n",
    "        if check_exists(q, \"cbd_shops\"):\n",
    "            lista_res.append(read_coll(\"cbd_shops\",q,  pro))\n",
    "            \n",
    "            lista_ratings = []\n",
    "            for ratings in lista_res:\n",
    "                    qu= {\"product\":i[\"product\"]}\n",
    "                    pro = {\"_id\":0}\n",
    "                    if check_exists(q, \"cbd_ratings\"):\n",
    "                           lista_ratings.append(read_coll(\"cbd_ratings\",qu, pro))\n",
    "                    \n",
    "\n",
    "\n",
    "    return lista_ratings\n",
    "\n"
   ]
  },
  {
   "cell_type": "code",
   "execution_count": 75,
   "metadata": {},
   "outputs": [
    {
     "data": {
      "text/plain": [
       "[[{'product': 'White Widow', 'rating': 4.3}],\n",
       " [{'product': 'White Widow', 'rating': 4.3}],\n",
       " [{'product': 'White Widow', 'rating': 4.3}],\n",
       " [{'product': 'White Widow', 'rating': 4.3}],\n",
       " [{'product': 'White Widow', 'rating': 4.3}],\n",
       " [{'product': 'White Widow', 'rating': 4.3}],\n",
       " [{'product': 'White Widow', 'rating': 4.3}],\n",
       " [{'product': 'White Widow', 'rating': 4.3}],\n",
       " [{'product': 'White Widow', 'rating': 4.3}],\n",
       " [{'product': 'White Widow', 'rating': 4.3}],\n",
       " [{'product': 'White Widow', 'rating': 4.3}],\n",
       " [{'product': 'White Widow', 'rating': 4.3}],\n",
       " [{'product': 'White Widow', 'rating': 4.3}],\n",
       " [{'product': 'White Widow', 'rating': 4.3}],\n",
       " [{'product': 'White Widow', 'rating': 4.3}],\n",
       " [{'product': 'White Widow', 'rating': 4.3}],\n",
       " [{'product': 'White Widow', 'rating': 4.3}],\n",
       " [{'product': 'White Widow', 'rating': 4.3}]]"
      ]
     },
     "execution_count": 75,
     "metadata": {},
     "output_type": "execute_result"
    }
   ],
   "source": [
    "shop_mood(\"Happy\")"
   ]
  },
  {
   "cell_type": "code",
   "execution_count": 128,
   "metadata": {},
   "outputs": [
    {
     "data": {
      "text/plain": [
       "' STACKOVERFLOW:\\ndef findmood():\\n    \\ndb.users.aggregate([{$lookup:\\n  {\\n        from: \"contacts\",\\n        localField: \"number\",\\n        foreignField: \"phonenumber\",\\n        as: \"same\"\\n    }\\n   },\\n   {\\n      $match: { \"same\": { $ne: [] } }\\n   }\\n])\\n\\n'"
      ]
     },
     "execution_count": 128,
     "metadata": {},
     "output_type": "execute_result"
    }
   ],
   "source": [
    "\"\"\" STACKOVERFLOW:\n",
    "def findmood():\n",
    "    \n",
    "db.users.aggregate([{$lookup:\n",
    "  {\n",
    "        from: \"contacts\",\n",
    "        localField: \"number\",\n",
    "        foreignField: \"phonenumber\",\n",
    "        as: \"same\"\n",
    "    }\n",
    "   },\n",
    "   {\n",
    "      $match: { \"same\": { $ne: [] } }\n",
    "   }\n",
    "])\n",
    "\n",
    "\"\"\""
   ]
  },
  {
   "cell_type": "code",
   "execution_count": null,
   "metadata": {},
   "outputs": [],
   "source": []
  }
 ],
 "metadata": {
  "kernelspec": {
   "display_name": "Python 3",
   "language": "python",
   "name": "python3"
  },
  "language_info": {
   "codemirror_mode": {
    "name": "ipython",
    "version": 3
   },
   "file_extension": ".py",
   "mimetype": "text/x-python",
   "name": "python",
   "nbconvert_exporter": "python",
   "pygments_lexer": "ipython3",
   "version": "3.9.1"
  }
 },
 "nbformat": 4,
 "nbformat_minor": 4
}
