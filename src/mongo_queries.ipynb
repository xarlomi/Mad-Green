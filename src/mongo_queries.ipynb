{
 "cells": [
  {
   "cell_type": "code",
   "execution_count": 175,
   "metadata": {},
   "outputs": [],
   "source": [
    "from mongoconnection import *\n",
    "import pandas as pd\n",
    "import seaborn as sns\n",
    "import matplotlib.pyplot as plt"
   ]
  },
  {
   "cell_type": "code",
   "execution_count": 2,
   "metadata": {},
   "outputs": [],
   "source": [
    "dat = pd.read_csv('../data/cbd_info2.csv')"
   ]
  },
  {
   "cell_type": "code",
   "execution_count": 3,
   "metadata": {},
   "outputs": [],
   "source": [
    "def lista ():\n",
    "    a = dat.Effects.unique()\n",
    "    b = [i.split(\",\") for i in a]\n",
    "    z = []\n",
    "    for j in b:\n",
    "        for k in j:\n",
    "            z.append(k)\n",
    "            z = list(set(z))\n",
    "            for x in z:\n",
    "                if x == \"None\" or x==\"Dry\" or x==\"Mouth\":\n",
    "                    z.remove(x)\n",
    "    return z"
   ]
  },
  {
   "cell_type": "code",
   "execution_count": 4,
   "metadata": {},
   "outputs": [
    {
     "data": {
      "text/plain": [
       "1825"
      ]
     },
     "execution_count": 4,
     "metadata": {},
     "output_type": "execute_result"
    }
   ],
   "source": [
    "filt = {\"mood\":{\"$regex\":\"Happy\"}}\n",
    "project = {\"mood\":1, \"product\":1, \"_id\":0}\n",
    "result = db.cbd_info.find(filt, project)\n",
    "len(list(result))"
   ]
  },
  {
   "cell_type": "code",
   "execution_count": 5,
   "metadata": {},
   "outputs": [
    {
     "name": "stderr",
     "output_type": "stream",
     "text": [
      "<ipython-input-5-b31db318e967>:1: DeprecationWarning: count is deprecated. Use estimated_document_count or count_documents instead. Please note that $where must be replaced by $expr, $near must be replaced by $geoWithin with $center, and $nearSphere must be replaced by $geoWithin with $centerSphere\n",
      "  db.cbd_info.count({\"mood\": {\"$regex\": \"Relaxed\"}})\n"
     ]
    },
    {
     "data": {
      "text/plain": [
       "1693"
      ]
     },
     "execution_count": 5,
     "metadata": {},
     "output_type": "execute_result"
    }
   ],
   "source": [
    "db.cbd_info.count({\"mood\": {\"$regex\": \"Relaxed\"}})"
   ]
  },
  {
   "cell_type": "code",
   "execution_count": 6,
   "metadata": {},
   "outputs": [],
   "source": [
    "def check_exists(query, collection, *pro):\n",
    "    res = read_coll(collection, query, pro)\n",
    "    if len(res) > 0:\n",
    "        return True\n",
    "    else:\n",
    "        return False"
   ]
  },
  {
   "cell_type": "code",
   "execution_count": 7,
   "metadata": {},
   "outputs": [],
   "source": [
    "def convert(row):\n",
    "    #print(row)\n",
    "    return '<a href=\"{}\">{}</a>'.format(row['shop'],  row.name)"
   ]
  },
  {
   "cell_type": "code",
   "execution_count": 94,
   "metadata": {
    "scrolled": false
   },
   "outputs": [],
   "source": [
    "def shop_mood(moods):\n",
    "    \"\"\"\n",
    "    This queries one collection to another and returns a flatlist with the \n",
    "    available CBD product given the mood chosen by user\n",
    "    \"\"\"\n",
    "    \n",
    "   #querying the KAGGLE dataset\n",
    "    filt = {\"mood\":{\"$regex\":f\"{moods}\"}}\n",
    "    project = {\"_id\":0, \"product\":1}\n",
    "    result = db.cbd_info.find(filt, project)\n",
    "    results= list(result)\n",
    "    \n",
    "    #querying the SCRAPPED dataset\n",
    "    lista_res = []\n",
    "    for i in results:\n",
    "        q = {\"product\":i[\"product\"]}\n",
    "        pro = {\"_id\":0} \n",
    "        if check_exists(q, \"cbd_shops\"):\n",
    "            lista_res.append(read_coll(\"cbd_shops\",q,  pro))\n",
    "            flat_list = [item for sublist in lista_res for item in sublist]\n",
    "            df = pd.DataFrame(flat_list)\n",
    "    \n",
    "\n",
    "                    \n",
    "    return flat_list\n"
   ]
  },
  {
   "cell_type": "code",
   "execution_count": 176,
   "metadata": {
    "scrolled": false
   },
   "outputs": [],
   "source": [
    "def main_shop_mood(moods):\n",
    "    \"\"\"\n",
    "    This queries one collection to another and returns a DF with the \n",
    "    available CBD product given the mood chosen by user. Without website. \n",
    "    Main DF used in streamlit\n",
    "    \"\"\"\n",
    "    \n",
    "   #querying the KAGGLE dataset\n",
    "    filt = {\"mood\":{\"$regex\":f\"{moods}\"}}\n",
    "    project = {\"_id\":0, \"product\":1}\n",
    "    result = db.cbd_info.find(filt, project)\n",
    "    results= list(result)\n",
    "    \n",
    "    #querying the SCRAPPED dataset\n",
    "    lista_res = []\n",
    "    for i in results:\n",
    "        q = {\"product\":i[\"product\"]}\n",
    "        pro = {\"_id\":0, \"shop\":0} \n",
    "        if check_exists(q, \"cbd_shops\"):\n",
    "            lista_res.append(read_coll(\"cbd_shops\",q,  pro))\n",
    "            flat_list = [item for sublist in lista_res for item in sublist]\n",
    "            df = pd.DataFrame(flat_list)\n",
    "    \n",
    "\n",
    "                    \n",
    "    return flat_list\n"
   ]
  },
  {
   "cell_type": "code",
   "execution_count": 149,
   "metadata": {},
   "outputs": [
    {
     "data": {
      "text/plain": [
       "<pymongo.results.InsertOneResult at 0x146e30e00>"
      ]
     },
     "execution_count": 149,
     "metadata": {},
     "output_type": "execute_result"
    }
   ],
   "source": [
    "def add_review(web, rev):\n",
    "    filt = {\"shop\":{\"$regex\":f\"{web}\"}}\n",
    "    project = {\"_id\":1, \"product\":0, \"CBD percentage\":0, \"price\":0}\n",
    "    result = db.cbd_shops.find(filt, project)\n",
    "    results= list(result)\n",
    "    id_review = {}\n",
    "    q = {\"review\": rev}\n",
    "    results.append(q)\n",
    "        \n",
    "    for x in results:\n",
    "           id_review.update(x)\n",
    "    id_review[\"shop_id\"] = id_review.pop(\"_id\")\n",
    "    \n",
    "    return write_coll(\"db.cbd_product_review\", id_review)\n",
    "\n",
    "\n",
    "\n",
    "\n",
    "add_review(\"https://top-garden.net/es/flor-de-cbd/flor-de-cbd-bubblegum-4-cbd-flor-de-canamo\", \"wole wakamole\")"
   ]
  },
  {
   "cell_type": "code",
   "execution_count": 173,
   "metadata": {},
   "outputs": [],
   "source": [
    "def read_reviews(web):\n",
    "    filt = {\"shop\":{\"$regex\":f\"{web}\"}}\n",
    "    project = {\"_id\":0, \"shop_id\":0, \"shop\":0}\n",
    "    result = db.db.cbd_product_review.find(filt, project)\n",
    "    results= list(result)\n",
    "\n",
    "    return results\n",
    "    "
   ]
  },
  {
   "cell_type": "code",
   "execution_count": 174,
   "metadata": {},
   "outputs": [
    {
     "data": {
      "text/plain": [
       "[{'review': 'wole wakamole'}]"
      ]
     },
     "execution_count": 174,
     "metadata": {},
     "output_type": "execute_result"
    }
   ],
   "source": [
    "read_reviews(\"https://top-garden.net/es/flor-de-cbd/flor-de-cbd-bubblegum-4-cbd-flor-de-canamo\")"
   ]
  },
  {
   "cell_type": "code",
   "execution_count": 142,
   "metadata": {
    "scrolled": false
   },
   "outputs": [
    {
     "ename": "IndentationError",
     "evalue": "unexpected indent (<ipython-input-142-4f11cc1a3fbd>, line 4)",
     "output_type": "error",
     "traceback": [
      "\u001b[0;36m  File \u001b[0;32m\"<ipython-input-142-4f11cc1a3fbd>\"\u001b[0;36m, line \u001b[0;32m4\u001b[0m\n\u001b[0;31m    \"\"\"\u001b[0m\n\u001b[0m    ^\u001b[0m\n\u001b[0;31mIndentationError\u001b[0m\u001b[0;31m:\u001b[0m unexpected indent\n"
     ]
    }
   ],
   "source": [
    "#Need to make + efficient main shop mood function, something in these lines:\n",
    "\n",
    "#def main_shop_mood(moods):\n",
    "    \"\"\"\n",
    "    This queries one collection to another and returns a DF with the \n",
    "    available CBD product given the mood chosen by user. Without website. \n",
    "    Main DF used in streamlit\n",
    "    \"\"\"\n",
    "    \n",
    "    flat_list = shop_mood(moods)\n",
    "    no_web = []\n",
    "    for x in flat_list:\n",
    "        for k in x:\n",
    "            if k != \"shop\":\n",
    "                no_web.append(x)\n",
    "    \n",
    "\n",
    "                    \n",
    "    return no_web\n"
   ]
  },
  {
   "cell_type": "code",
   "execution_count": 67,
   "metadata": {},
   "outputs": [
    {
     "data": {
      "text/html": [
       "<div>\n",
       "<style scoped>\n",
       "    .dataframe tbody tr th:only-of-type {\n",
       "        vertical-align: middle;\n",
       "    }\n",
       "\n",
       "    .dataframe tbody tr th {\n",
       "        vertical-align: top;\n",
       "    }\n",
       "\n",
       "    .dataframe thead th {\n",
       "        text-align: right;\n",
       "    }\n",
       "</style>\n",
       "<table border=\"1\" class=\"dataframe\">\n",
       "  <thead>\n",
       "    <tr style=\"text-align: right;\">\n",
       "      <th></th>\n",
       "      <th>product</th>\n",
       "      <th>CBD percentage</th>\n",
       "      <th>price</th>\n",
       "      <th>shop</th>\n",
       "    </tr>\n",
       "  </thead>\n",
       "  <tbody>\n",
       "    <tr>\n",
       "      <th>0</th>\n",
       "      <td>Cashmere Leaf</td>\n",
       "      <td>5%</td>\n",
       "      <td>24,99 €</td>\n",
       "      <td>https://top-garden.net/es/flor-de-cbd/flor-de-...</td>\n",
       "    </tr>\n",
       "    <tr>\n",
       "      <th>1</th>\n",
       "      <td>Amnesia</td>\n",
       "      <td>4%</td>\n",
       "      <td>13,50 €</td>\n",
       "      <td>https://top-garden.net/es/flor-de-cbd/flor-de-...</td>\n",
       "    </tr>\n",
       "    <tr>\n",
       "      <th>2</th>\n",
       "      <td>Amnesia</td>\n",
       "      <td>4%</td>\n",
       "      <td>11,49 €</td>\n",
       "      <td>https://top-garden.net/es/flor-de-cbd/flor-de-...</td>\n",
       "    </tr>\n",
       "    <tr>\n",
       "      <th>3</th>\n",
       "      <td>Amnesia</td>\n",
       "      <td>6%</td>\n",
       "      <td>10,99 €</td>\n",
       "      <td>https://top-garden.net/es/flor-de-cbd/flor-de-...</td>\n",
       "    </tr>\n",
       "    <tr>\n",
       "      <th>4</th>\n",
       "      <td>Bubblegum</td>\n",
       "      <td>4%</td>\n",
       "      <td>13,50 €</td>\n",
       "      <td>https://top-garden.net/es/flor-de-cbd/flor-de-...</td>\n",
       "    </tr>\n",
       "  </tbody>\n",
       "</table>\n",
       "</div>"
      ],
      "text/plain": [
       "         product CBD percentage    price  \\\n",
       "0  Cashmere Leaf             5%  24,99 €   \n",
       "1        Amnesia             4%  13,50 €   \n",
       "2        Amnesia             4%  11,49 €   \n",
       "3        Amnesia             6%  10,99 €   \n",
       "4      Bubblegum             4%  13,50 €   \n",
       "\n",
       "                                                shop  \n",
       "0  https://top-garden.net/es/flor-de-cbd/flor-de-...  \n",
       "1  https://top-garden.net/es/flor-de-cbd/flor-de-...  \n",
       "2  https://top-garden.net/es/flor-de-cbd/flor-de-...  \n",
       "3  https://top-garden.net/es/flor-de-cbd/flor-de-...  \n",
       "4  https://top-garden.net/es/flor-de-cbd/flor-de-...  "
      ]
     },
     "execution_count": 67,
     "metadata": {},
     "output_type": "execute_result"
    }
   ],
   "source": [
    "pd.DataFrame(shop_mood(\"Happy\")).head()"
   ]
  },
  {
   "cell_type": "code",
   "execution_count": 31,
   "metadata": {},
   "outputs": [],
   "source": [
    "def mood_description(moods):\n",
    "    \"\"\"\n",
    "    This queries one collection to another and returns a DF with the \n",
    "    available CBD product given the mood chosen by user\n",
    "    \"\"\"\n",
    "    flat_list = shop_mood(moods)\n",
    "    lista_description = []\n",
    "    for shops in flat_list:\n",
    "        qu = {\"product\":shops[\"product\"]}\n",
    "        pro = {\"_id\": 0, \"product\":1, \"description\":1}\n",
    "        if check_exists(qu, \"cbd_info\"):\n",
    "                    lista_description.append( read_coll(\"cbd_info\",qu, pro))\n",
    "                    flat_list2 = [item for sublist in lista_description for item in sublist]\n",
    "                    df = pd.DataFrame(flat_list2)    \n",
    "\n",
    "    return df"
   ]
  },
  {
   "cell_type": "code",
   "execution_count": 68,
   "metadata": {},
   "outputs": [
    {
     "data": {
      "text/html": [
       "<div>\n",
       "<style scoped>\n",
       "    .dataframe tbody tr th:only-of-type {\n",
       "        vertical-align: middle;\n",
       "    }\n",
       "\n",
       "    .dataframe tbody tr th {\n",
       "        vertical-align: top;\n",
       "    }\n",
       "\n",
       "    .dataframe thead th {\n",
       "        text-align: right;\n",
       "    }\n",
       "</style>\n",
       "<table border=\"1\" class=\"dataframe\">\n",
       "  <thead>\n",
       "    <tr style=\"text-align: right;\">\n",
       "      <th></th>\n",
       "      <th>product</th>\n",
       "      <th>description</th>\n",
       "    </tr>\n",
       "  </thead>\n",
       "  <tbody>\n",
       "    <tr>\n",
       "      <th>0</th>\n",
       "      <td>Cashmere Leaf</td>\n",
       "      <td>Also known as Optimus Prime, the indica-domina...</td>\n",
       "    </tr>\n",
       "    <tr>\n",
       "      <th>1</th>\n",
       "      <td>Amnesia</td>\n",
       "      <td>Amnesia is typically a sativa-dominant cannabi...</td>\n",
       "    </tr>\n",
       "    <tr>\n",
       "      <th>2</th>\n",
       "      <td>Amnesia</td>\n",
       "      <td>Amnesia is typically a sativa-dominant cannabi...</td>\n",
       "    </tr>\n",
       "    <tr>\n",
       "      <th>3</th>\n",
       "      <td>Amnesia</td>\n",
       "      <td>Amnesia is typically a sativa-dominant cannabi...</td>\n",
       "    </tr>\n",
       "    <tr>\n",
       "      <th>4</th>\n",
       "      <td>Bubblegum</td>\n",
       "      <td>An 80% indica strain from Bulldog Seeds in the...</td>\n",
       "    </tr>\n",
       "  </tbody>\n",
       "</table>\n",
       "</div>"
      ],
      "text/plain": [
       "         product                                        description\n",
       "0  Cashmere Leaf  Also known as Optimus Prime, the indica-domina...\n",
       "1        Amnesia  Amnesia is typically a sativa-dominant cannabi...\n",
       "2        Amnesia  Amnesia is typically a sativa-dominant cannabi...\n",
       "3        Amnesia  Amnesia is typically a sativa-dominant cannabi...\n",
       "4      Bubblegum  An 80% indica strain from Bulldog Seeds in the..."
      ]
     },
     "execution_count": 68,
     "metadata": {},
     "output_type": "execute_result"
    }
   ],
   "source": [
    "mood_description(\"Happy\").head()"
   ]
  },
  {
   "cell_type": "code",
   "execution_count": 10,
   "metadata": {},
   "outputs": [],
   "source": [
    "def shop_ratings(moods):\n",
    "    flat_list = shop_mood(moods)\n",
    "    lista_ratings = []\n",
    "    for ratings in flat_list:\n",
    "            qu= {\"product\":ratings[\"product\"]}\n",
    "            pro = {\"_id\":0}\n",
    "            if check_exists(qu, \"cbd_ratings\"):\n",
    "                        lista_ratings.append( read_coll(\"cbd_ratings\",qu, pro))\n",
    "                        flat_list2 = [item for sublist in lista_ratings for item in sublist]\n",
    "                        ratings_df = pd.DataFrame(flat_list2)\n",
    "                        rate_df = ratings_df.drop_duplicates(subset=\"product\")\n",
    "                            \n",
    "    return rate_df"
   ]
  },
  {
   "cell_type": "code",
   "execution_count": 69,
   "metadata": {},
   "outputs": [
    {
     "data": {
      "text/html": [
       "<div>\n",
       "<style scoped>\n",
       "    .dataframe tbody tr th:only-of-type {\n",
       "        vertical-align: middle;\n",
       "    }\n",
       "\n",
       "    .dataframe tbody tr th {\n",
       "        vertical-align: top;\n",
       "    }\n",
       "\n",
       "    .dataframe thead th {\n",
       "        text-align: right;\n",
       "    }\n",
       "</style>\n",
       "<table border=\"1\" class=\"dataframe\">\n",
       "  <thead>\n",
       "    <tr style=\"text-align: right;\">\n",
       "      <th></th>\n",
       "      <th>product</th>\n",
       "      <th>rating</th>\n",
       "    </tr>\n",
       "  </thead>\n",
       "  <tbody>\n",
       "    <tr>\n",
       "      <th>0</th>\n",
       "      <td>Cashmere Leaf</td>\n",
       "      <td>4.4</td>\n",
       "    </tr>\n",
       "    <tr>\n",
       "      <th>1</th>\n",
       "      <td>Amnesia</td>\n",
       "      <td>4.3</td>\n",
       "    </tr>\n",
       "    <tr>\n",
       "      <th>4</th>\n",
       "      <td>Bubblegum</td>\n",
       "      <td>4.3</td>\n",
       "    </tr>\n",
       "    <tr>\n",
       "      <th>5</th>\n",
       "      <td>Purple</td>\n",
       "      <td>4.3</td>\n",
       "    </tr>\n",
       "    <tr>\n",
       "      <th>6</th>\n",
       "      <td>Cannatonic</td>\n",
       "      <td>4.3</td>\n",
       "    </tr>\n",
       "  </tbody>\n",
       "</table>\n",
       "</div>"
      ],
      "text/plain": [
       "         product  rating\n",
       "0  Cashmere Leaf     4.4\n",
       "1        Amnesia     4.3\n",
       "4      Bubblegum     4.3\n",
       "5         Purple     4.3\n",
       "6     Cannatonic     4.3"
      ]
     },
     "execution_count": 69,
     "metadata": {},
     "output_type": "execute_result"
    }
   ],
   "source": [
    "shop_ratings(\"Happy\").head()"
   ]
  },
  {
   "cell_type": "code",
   "execution_count": 71,
   "metadata": {},
   "outputs": [
    {
     "data": {
      "text/plain": [
       "4.4"
      ]
     },
     "execution_count": 71,
     "metadata": {},
     "output_type": "execute_result"
    }
   ],
   "source": [
    "float(4.40000)"
   ]
  },
  {
   "cell_type": "code",
   "execution_count": 161,
   "metadata": {},
   "outputs": [],
   "source": [
    "def merging_shop_rating(moods):\n",
    "    \"\"\"\n",
    "    Esta funcion me devuelve un df de df shop_ratings + shoop_moods \n",
    "    \"\"\"\n",
    "    df1 = pd.DataFrame(shop_mood(moods))\n",
    "    df2 = shop_ratings(moods)\n",
    "    #df3 = mood_description(moods)\n",
    "    ttal = pd.merge(df1, df2,on='product')\n",
    "    df = ttal.drop_duplicates(subset=['product','price', 'CBD percentage'], keep='last')\n",
    "    return df"
   ]
  },
  {
   "cell_type": "code",
   "execution_count": 163,
   "metadata": {
    "scrolled": false
   },
   "outputs": [
    {
     "data": {
      "text/html": [
       "<div>\n",
       "<style scoped>\n",
       "    .dataframe tbody tr th:only-of-type {\n",
       "        vertical-align: middle;\n",
       "    }\n",
       "\n",
       "    .dataframe tbody tr th {\n",
       "        vertical-align: top;\n",
       "    }\n",
       "\n",
       "    .dataframe thead th {\n",
       "        text-align: right;\n",
       "    }\n",
       "</style>\n",
       "<table border=\"1\" class=\"dataframe\">\n",
       "  <thead>\n",
       "    <tr style=\"text-align: right;\">\n",
       "      <th></th>\n",
       "      <th>product</th>\n",
       "      <th>CBD percentage</th>\n",
       "      <th>price</th>\n",
       "      <th>shop</th>\n",
       "      <th>rating</th>\n",
       "    </tr>\n",
       "  </thead>\n",
       "  <tbody>\n",
       "    <tr>\n",
       "      <th>0</th>\n",
       "      <td>Cashmere Leaf</td>\n",
       "      <td>5%</td>\n",
       "      <td>24,99 €</td>\n",
       "      <td>https://top-garden.net/es/flor-de-cbd/flor-de-...</td>\n",
       "      <td>4.4</td>\n",
       "    </tr>\n",
       "    <tr>\n",
       "      <th>1</th>\n",
       "      <td>Amnesia</td>\n",
       "      <td>4%</td>\n",
       "      <td>13,50 €</td>\n",
       "      <td>https://top-garden.net/es/flor-de-cbd/flor-de-...</td>\n",
       "      <td>4.3</td>\n",
       "    </tr>\n",
       "    <tr>\n",
       "      <th>2</th>\n",
       "      <td>Amnesia</td>\n",
       "      <td>4%</td>\n",
       "      <td>11,49 €</td>\n",
       "      <td>https://top-garden.net/es/flor-de-cbd/flor-de-...</td>\n",
       "      <td>4.3</td>\n",
       "    </tr>\n",
       "    <tr>\n",
       "      <th>3</th>\n",
       "      <td>Amnesia</td>\n",
       "      <td>6%</td>\n",
       "      <td>10,99 €</td>\n",
       "      <td>https://top-garden.net/es/flor-de-cbd/flor-de-...</td>\n",
       "      <td>4.3</td>\n",
       "    </tr>\n",
       "    <tr>\n",
       "      <th>4</th>\n",
       "      <td>Bubblegum</td>\n",
       "      <td>4%</td>\n",
       "      <td>13,50 €</td>\n",
       "      <td>https://top-garden.net/es/flor-de-cbd/flor-de-...</td>\n",
       "      <td>4.3</td>\n",
       "    </tr>\n",
       "    <tr>\n",
       "      <th>5</th>\n",
       "      <td>Purple</td>\n",
       "      <td>4%</td>\n",
       "      <td>10,99 €</td>\n",
       "      <td>https://top-garden.net/es/flor-de-cbd/flor-de-...</td>\n",
       "      <td>4.3</td>\n",
       "    </tr>\n",
       "    <tr>\n",
       "      <th>6</th>\n",
       "      <td>Cannatonic</td>\n",
       "      <td>4%</td>\n",
       "      <td>13,50 €</td>\n",
       "      <td>https://top-garden.net/es/flor-de-cbd/flor-de-...</td>\n",
       "      <td>4.3</td>\n",
       "    </tr>\n",
       "    <tr>\n",
       "      <th>7</th>\n",
       "      <td>Caramel Candy</td>\n",
       "      <td>3.5%</td>\n",
       "      <td>11,99 €</td>\n",
       "      <td>https://top-garden.net/es/flor-de-cbd/flor-de-...</td>\n",
       "      <td>4.6</td>\n",
       "    </tr>\n",
       "    <tr>\n",
       "      <th>8</th>\n",
       "      <td>Cheese</td>\n",
       "      <td>4%</td>\n",
       "      <td>13,50 €</td>\n",
       "      <td>https://top-garden.net/es/flor-de-cbd/flor-de-...</td>\n",
       "      <td>4.1</td>\n",
       "    </tr>\n",
       "    <tr>\n",
       "      <th>9</th>\n",
       "      <td>Candy Kush</td>\n",
       "      <td>5%</td>\n",
       "      <td>13,50 €</td>\n",
       "      <td>https://top-garden.net/es/flor-de-cbd/flor-de-...</td>\n",
       "      <td>4.3</td>\n",
       "    </tr>\n",
       "    <tr>\n",
       "      <th>10</th>\n",
       "      <td>Gelato</td>\n",
       "      <td>5%</td>\n",
       "      <td>12,99 €</td>\n",
       "      <td>https://top-garden.net/es/flor-de-cbd/flor-de-...</td>\n",
       "      <td>4.7</td>\n",
       "    </tr>\n",
       "    <tr>\n",
       "      <th>11</th>\n",
       "      <td>Green Gelato</td>\n",
       "      <td>4%</td>\n",
       "      <td>13,49 €</td>\n",
       "      <td>https://top-garden.net/es/flor-de-cbd/flor-de-...</td>\n",
       "      <td>3.8</td>\n",
       "    </tr>\n",
       "    <tr>\n",
       "      <th>12</th>\n",
       "      <td>Harlequin</td>\n",
       "      <td>5%</td>\n",
       "      <td>13,49 €</td>\n",
       "      <td>https://top-garden.net/es/flor-de-cbd/flor-de-...</td>\n",
       "      <td>4.3</td>\n",
       "    </tr>\n",
       "    <tr>\n",
       "      <th>13</th>\n",
       "      <td>Ice Moonrock</td>\n",
       "      <td>34%</td>\n",
       "      <td>25,99 €</td>\n",
       "      <td>https://top-garden.net/es/flor-de-cbd/ice-moon...</td>\n",
       "      <td>4.1</td>\n",
       "    </tr>\n",
       "    <tr>\n",
       "      <th>14</th>\n",
       "      <td>Orange Bud</td>\n",
       "      <td>3%</td>\n",
       "      <td>13,50 €</td>\n",
       "      <td>https://top-garden.net/es/flor-de-cbd/flor-de-...</td>\n",
       "      <td>4.3</td>\n",
       "    </tr>\n",
       "    <tr>\n",
       "      <th>15</th>\n",
       "      <td>Orange Bud</td>\n",
       "      <td>2%</td>\n",
       "      <td>11,49 €</td>\n",
       "      <td>https://top-garden.net/es/flor-de-cbd/flor-de-...</td>\n",
       "      <td>4.3</td>\n",
       "    </tr>\n",
       "    <tr>\n",
       "      <th>16</th>\n",
       "      <td>Rollex OG</td>\n",
       "      <td>5%</td>\n",
       "      <td>25,99 €</td>\n",
       "      <td>https://top-garden.net/es/flor-de-cbd/flor-de-...</td>\n",
       "      <td>4.7</td>\n",
       "    </tr>\n",
       "    <tr>\n",
       "      <th>17</th>\n",
       "      <td>Silver Bud</td>\n",
       "      <td>5%</td>\n",
       "      <td>13,50 €</td>\n",
       "      <td>https://top-garden.net/es/flor-de-cbd/flor-de-...</td>\n",
       "      <td>5.0</td>\n",
       "    </tr>\n",
       "    <tr>\n",
       "      <th>18</th>\n",
       "      <td>Strawberry Kush</td>\n",
       "      <td>4%</td>\n",
       "      <td>13,49 €</td>\n",
       "      <td>https://top-garden.net/es/flor-de-cbd/flor-de-...</td>\n",
       "      <td>4.2</td>\n",
       "    </tr>\n",
       "    <tr>\n",
       "      <th>19</th>\n",
       "      <td>White Haze</td>\n",
       "      <td>5%</td>\n",
       "      <td>13,50 €</td>\n",
       "      <td>https://top-garden.net/es/flor-de-cbd/flor-de-...</td>\n",
       "      <td>4.0</td>\n",
       "    </tr>\n",
       "    <tr>\n",
       "      <th>20</th>\n",
       "      <td>White Widow</td>\n",
       "      <td>2.5%</td>\n",
       "      <td>9,99 €</td>\n",
       "      <td>https://top-garden.net/es/flor-de-cbd/flor-de-...</td>\n",
       "      <td>4.3</td>\n",
       "    </tr>\n",
       "    <tr>\n",
       "      <th>21</th>\n",
       "      <td>White Widow</td>\n",
       "      <td>6%</td>\n",
       "      <td>10,99 €</td>\n",
       "      <td>https://top-garden.net/es/flor-de-cbd/flor-de-...</td>\n",
       "      <td>4.3</td>\n",
       "    </tr>\n",
       "  </tbody>\n",
       "</table>\n",
       "</div>"
      ],
      "text/plain": [
       "            product CBD percentage    price  \\\n",
       "0     Cashmere Leaf             5%  24,99 €   \n",
       "1           Amnesia             4%  13,50 €   \n",
       "2           Amnesia             4%  11,49 €   \n",
       "3           Amnesia             6%  10,99 €   \n",
       "4         Bubblegum             4%  13,50 €   \n",
       "5            Purple             4%  10,99 €   \n",
       "6        Cannatonic             4%  13,50 €   \n",
       "7     Caramel Candy           3.5%  11,99 €   \n",
       "8            Cheese             4%  13,50 €   \n",
       "9        Candy Kush             5%  13,50 €   \n",
       "10           Gelato             5%  12,99 €   \n",
       "11     Green Gelato             4%  13,49 €   \n",
       "12        Harlequin             5%  13,49 €   \n",
       "13     Ice Moonrock            34%  25,99 €   \n",
       "14       Orange Bud             3%  13,50 €   \n",
       "15       Orange Bud             2%  11,49 €   \n",
       "16        Rollex OG             5%  25,99 €   \n",
       "17       Silver Bud             5%  13,50 €   \n",
       "18  Strawberry Kush             4%  13,49 €   \n",
       "19       White Haze             5%  13,50 €   \n",
       "20      White Widow           2.5%   9,99 €   \n",
       "21      White Widow             6%  10,99 €   \n",
       "\n",
       "                                                 shop  rating  \n",
       "0   https://top-garden.net/es/flor-de-cbd/flor-de-...     4.4  \n",
       "1   https://top-garden.net/es/flor-de-cbd/flor-de-...     4.3  \n",
       "2   https://top-garden.net/es/flor-de-cbd/flor-de-...     4.3  \n",
       "3   https://top-garden.net/es/flor-de-cbd/flor-de-...     4.3  \n",
       "4   https://top-garden.net/es/flor-de-cbd/flor-de-...     4.3  \n",
       "5   https://top-garden.net/es/flor-de-cbd/flor-de-...     4.3  \n",
       "6   https://top-garden.net/es/flor-de-cbd/flor-de-...     4.3  \n",
       "7   https://top-garden.net/es/flor-de-cbd/flor-de-...     4.6  \n",
       "8   https://top-garden.net/es/flor-de-cbd/flor-de-...     4.1  \n",
       "9   https://top-garden.net/es/flor-de-cbd/flor-de-...     4.3  \n",
       "10  https://top-garden.net/es/flor-de-cbd/flor-de-...     4.7  \n",
       "11  https://top-garden.net/es/flor-de-cbd/flor-de-...     3.8  \n",
       "12  https://top-garden.net/es/flor-de-cbd/flor-de-...     4.3  \n",
       "13  https://top-garden.net/es/flor-de-cbd/ice-moon...     4.1  \n",
       "14  https://top-garden.net/es/flor-de-cbd/flor-de-...     4.3  \n",
       "15  https://top-garden.net/es/flor-de-cbd/flor-de-...     4.3  \n",
       "16  https://top-garden.net/es/flor-de-cbd/flor-de-...     4.7  \n",
       "17  https://top-garden.net/es/flor-de-cbd/flor-de-...     5.0  \n",
       "18  https://top-garden.net/es/flor-de-cbd/flor-de-...     4.2  \n",
       "19  https://top-garden.net/es/flor-de-cbd/flor-de-...     4.0  \n",
       "20  https://top-garden.net/es/flor-de-cbd/flor-de-...     4.3  \n",
       "21  https://top-garden.net/es/flor-de-cbd/flor-de-...     4.3  "
      ]
     },
     "execution_count": 163,
     "metadata": {},
     "output_type": "execute_result"
    }
   ],
   "source": [
    "merging_shop_rating(\"Happy\")"
   ]
  },
  {
   "cell_type": "code",
   "execution_count": null,
   "metadata": {},
   "outputs": [],
   "source": []
  },
  {
   "cell_type": "code",
   "execution_count": null,
   "metadata": {},
   "outputs": [],
   "source": []
  },
  {
   "cell_type": "code",
   "execution_count": null,
   "metadata": {},
   "outputs": [],
   "source": []
  },
  {
   "cell_type": "code",
   "execution_count": null,
   "metadata": {},
   "outputs": [],
   "source": []
  },
  {
   "cell_type": "code",
   "execution_count": 80,
   "metadata": {},
   "outputs": [
    {
     "data": {
      "text/plain": [
       "product            object\n",
       "CBD percentage     object\n",
       "price              object\n",
       "shop               object\n",
       "rating            float64\n",
       "description        object\n",
       "dtype: object"
      ]
     },
     "execution_count": 80,
     "metadata": {},
     "output_type": "execute_result"
    }
   ],
   "source": [
    "df = merging_shop_rating(\"Happy\")\n",
    "df.dtypes"
   ]
  },
  {
   "cell_type": "code",
   "execution_count": 81,
   "metadata": {},
   "outputs": [
    {
     "data": {
      "text/plain": [
       "Text(0, 0.5, 'Rating')"
      ]
     },
     "execution_count": 81,
     "metadata": {},
     "output_type": "execute_result"
    },
    {
     "data": {
      "image/png": "[encoded data removed]",
      "text/plain": [
       "<Figure size 432x288 with 1 Axes>"
      ]
     },
     "metadata": {
      "needs_background": "light"
     },
     "output_type": "display_data"
    }
   ],
   "source": [
    "df = merging_shop_rating(\"Happy\")\n",
    "\n",
    "df.plot(kind=\"bar\", x=\"product\", y=\"rating\")\n",
    "plt.title(\"Ratings of buds\")\n",
    "plt.xlabel(\"Buds\")\n",
    "plt.ylabel(\"Rating\")"
   ]
  },
  {
   "cell_type": "code",
   "execution_count": 170,
   "metadata": {},
   "outputs": [
    {
     "data": {
      "text/html": [
       "<div>\n",
       "<style scoped>\n",
       "    .dataframe tbody tr th:only-of-type {\n",
       "        vertical-align: middle;\n",
       "    }\n",
       "\n",
       "    .dataframe tbody tr th {\n",
       "        vertical-align: top;\n",
       "    }\n",
       "\n",
       "    .dataframe thead th {\n",
       "        text-align: right;\n",
       "    }\n",
       "</style>\n",
       "<table border=\"1\" class=\"dataframe\">\n",
       "  <thead>\n",
       "    <tr style=\"text-align: right;\">\n",
       "      <th></th>\n",
       "      <th>product</th>\n",
       "      <th>rating</th>\n",
       "    </tr>\n",
       "  </thead>\n",
       "  <tbody>\n",
       "    <tr>\n",
       "      <th>0</th>\n",
       "      <td>Cashmere Leaf</td>\n",
       "      <td>4.4</td>\n",
       "    </tr>\n",
       "    <tr>\n",
       "      <th>1</th>\n",
       "      <td>Amnesia</td>\n",
       "      <td>4.3</td>\n",
       "    </tr>\n",
       "    <tr>\n",
       "      <th>2</th>\n",
       "      <td>Amnesia</td>\n",
       "      <td>4.3</td>\n",
       "    </tr>\n",
       "    <tr>\n",
       "      <th>3</th>\n",
       "      <td>Amnesia</td>\n",
       "      <td>4.3</td>\n",
       "    </tr>\n",
       "    <tr>\n",
       "      <th>4</th>\n",
       "      <td>Bubblegum</td>\n",
       "      <td>4.3</td>\n",
       "    </tr>\n",
       "    <tr>\n",
       "      <th>5</th>\n",
       "      <td>Purple</td>\n",
       "      <td>4.3</td>\n",
       "    </tr>\n",
       "    <tr>\n",
       "      <th>6</th>\n",
       "      <td>Cannatonic</td>\n",
       "      <td>4.3</td>\n",
       "    </tr>\n",
       "    <tr>\n",
       "      <th>7</th>\n",
       "      <td>Caramel Candy</td>\n",
       "      <td>4.6</td>\n",
       "    </tr>\n",
       "    <tr>\n",
       "      <th>8</th>\n",
       "      <td>Cheese</td>\n",
       "      <td>4.1</td>\n",
       "    </tr>\n",
       "    <tr>\n",
       "      <th>9</th>\n",
       "      <td>Candy Kush</td>\n",
       "      <td>4.3</td>\n",
       "    </tr>\n",
       "    <tr>\n",
       "      <th>10</th>\n",
       "      <td>Gelato</td>\n",
       "      <td>4.7</td>\n",
       "    </tr>\n",
       "    <tr>\n",
       "      <th>11</th>\n",
       "      <td>Green Gelato</td>\n",
       "      <td>3.8</td>\n",
       "    </tr>\n",
       "    <tr>\n",
       "      <th>12</th>\n",
       "      <td>Harlequin</td>\n",
       "      <td>4.3</td>\n",
       "    </tr>\n",
       "    <tr>\n",
       "      <th>13</th>\n",
       "      <td>Ice Moonrock</td>\n",
       "      <td>4.1</td>\n",
       "    </tr>\n",
       "    <tr>\n",
       "      <th>14</th>\n",
       "      <td>Orange Bud</td>\n",
       "      <td>4.3</td>\n",
       "    </tr>\n",
       "    <tr>\n",
       "      <th>15</th>\n",
       "      <td>Orange Bud</td>\n",
       "      <td>4.3</td>\n",
       "    </tr>\n",
       "    <tr>\n",
       "      <th>16</th>\n",
       "      <td>Rollex OG</td>\n",
       "      <td>4.7</td>\n",
       "    </tr>\n",
       "    <tr>\n",
       "      <th>17</th>\n",
       "      <td>Silver Bud</td>\n",
       "      <td>5.0</td>\n",
       "    </tr>\n",
       "    <tr>\n",
       "      <th>18</th>\n",
       "      <td>Strawberry Kush</td>\n",
       "      <td>4.2</td>\n",
       "    </tr>\n",
       "    <tr>\n",
       "      <th>19</th>\n",
       "      <td>White Haze</td>\n",
       "      <td>4.0</td>\n",
       "    </tr>\n",
       "    <tr>\n",
       "      <th>20</th>\n",
       "      <td>White Widow</td>\n",
       "      <td>4.3</td>\n",
       "    </tr>\n",
       "    <tr>\n",
       "      <th>21</th>\n",
       "      <td>White Widow</td>\n",
       "      <td>4.3</td>\n",
       "    </tr>\n",
       "  </tbody>\n",
       "</table>\n",
       "</div>"
      ],
      "text/plain": [
       "            product  rating\n",
       "0     Cashmere Leaf     4.4\n",
       "1           Amnesia     4.3\n",
       "2           Amnesia     4.3\n",
       "3           Amnesia     4.3\n",
       "4         Bubblegum     4.3\n",
       "5            Purple     4.3\n",
       "6        Cannatonic     4.3\n",
       "7     Caramel Candy     4.6\n",
       "8            Cheese     4.1\n",
       "9        Candy Kush     4.3\n",
       "10           Gelato     4.7\n",
       "11     Green Gelato     3.8\n",
       "12        Harlequin     4.3\n",
       "13     Ice Moonrock     4.1\n",
       "14       Orange Bud     4.3\n",
       "15       Orange Bud     4.3\n",
       "16        Rollex OG     4.7\n",
       "17       Silver Bud     5.0\n",
       "18  Strawberry Kush     4.2\n",
       "19       White Haze     4.0\n",
       "20      White Widow     4.3\n",
       "21      White Widow     4.3"
      ]
     },
     "execution_count": 170,
     "metadata": {},
     "output_type": "execute_result"
    }
   ],
   "source": [
    "shop_ratings(\"Happy\")"
   ]
  },
  {
   "cell_type": "code",
   "execution_count": 158,
   "metadata": {},
   "outputs": [],
   "source": [
    "rs = db.cbd_ratings.aggregate([{ \"$group\" : { \"_id\":0, \"max\": { \"$max\" : \"$rating\" }}}])"
   ]
  },
  {
   "cell_type": "code",
   "execution_count": 159,
   "metadata": {},
   "outputs": [
    {
     "data": {
      "text/plain": [
       "[{'_id': 0, 'max': 5.0}]"
      ]
     },
     "execution_count": 159,
     "metadata": {},
     "output_type": "execute_result"
    }
   ],
   "source": [
    "list(rs)"
   ]
  },
  {
   "cell_type": "code",
   "execution_count": 82,
   "metadata": {},
   "outputs": [
    {
     "data": {
      "text/plain": [
       "' STACKOVERFLOW:\\ndef findmood():\\n    \\ndb.users.aggregate([{$lookup:\\n  {\\n        from: \"contacts\",\\n        localField: \"number\",\\n        foreignField: \"phonenumber\",\\n        as: \"same\"\\n    }\\n   },\\n   {\\n      $match: { \"same\": { $ne: [] } }\\n   }\\n])\\n\\n'"
      ]
     },
     "execution_count": 82,
     "metadata": {},
     "output_type": "execute_result"
    }
   ],
   "source": [
    "\"\"\" STACKOVERFLOW:\n",
    "def findmood():\n",
    "    \n",
    "db.users.aggregate([{$lookup:\n",
    "  {\n",
    "        from: \"contacts\",\n",
    "        localField: \"number\",\n",
    "        foreignField: \"phonenumber\",\n",
    "        as: \"same\"\n",
    "    }\n",
    "   },\n",
    "   {\n",
    "      $match: { \"same\": { $ne: [] } }\n",
    "   }\n",
    "])\n",
    "\n",
    "\"\"\""
   ]
  },
  {
   "cell_type": "code",
   "execution_count": null,
   "metadata": {},
   "outputs": [],
   "source": []
  }
 ],
 "metadata": {
  "kernelspec": {
   "display_name": "Python 3",
   "language": "python",
   "name": "python3"
  },
  "language_info": {
   "codemirror_mode": {
    "name": "ipython",
    "version": 3
   },
   "file_extension": ".py",
   "mimetype": "text/x-python",
   "name": "python",
   "nbconvert_exporter": "python",
   "pygments_lexer": "ipython3",
   "version": "3.9.1"
  }
 },
 "nbformat": 4,
 "nbformat_minor": 4
}
