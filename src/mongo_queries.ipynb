{
 "cells": [
  {
   "cell_type": "code",
   "execution_count": 1,
   "metadata": {},
   "outputs": [],
   "source": [
    "from mongoconnection import *\n",
    "import pandas as pd"
   ]
  },
  {
   "cell_type": "code",
   "execution_count": 5,
   "metadata": {},
   "outputs": [],
   "source": [
    "dat = pd.read_csv('../data/cbd_info2.csv')"
   ]
  },
  {
   "cell_type": "code",
   "execution_count": 6,
   "metadata": {},
   "outputs": [],
   "source": [
    "def lista ():\n",
    "    a = dat.Effects.unique()\n",
    "    b = [i.split(\",\") for i in a]\n",
    "    z = []\n",
    "    for j in b:\n",
    "        for k in j:\n",
    "            z.append(k)\n",
    "            z = list(set(z))\n",
    "            for x in z:\n",
    "                if x == \"None\" or x==\"Dry\" or x==\"Mouth\":\n",
    "                    z.remove(x)\n",
    "    return z"
   ]
  },
  {
   "cell_type": "code",
   "execution_count": 8,
   "metadata": {},
   "outputs": [
    {
     "data": {
      "text/plain": [
       "2277"
      ]
     },
     "execution_count": 8,
     "metadata": {},
     "output_type": "execute_result"
    }
   ],
   "source": [
    "filt = {}\n",
    "project = {\"mood\": \"Happy\", \"_id\":0, \"product\":1}\n",
    "result = db.cbd_info.find(filt, project)\n",
    "len(list(result))"
   ]
  },
  {
   "cell_type": "code",
   "execution_count": 9,
   "metadata": {},
   "outputs": [
    {
     "name": "stderr",
     "output_type": "stream",
     "text": [
      "<ipython-input-9-e57c8ce0c60e>:1: DeprecationWarning: count is deprecated. Use estimated_document_count or count_documents instead. Please note that $where must be replaced by $expr, $near must be replaced by $geoWithin with $center, and $nearSphere must be replaced by $geoWithin with $centerSphere\n",
      "  db.cbd_info.count({\"$expr\": {\"mood\": \"Relaxed\"}})\n"
     ]
    },
    {
     "data": {
      "text/plain": [
       "2277"
      ]
     },
     "execution_count": 9,
     "metadata": {},
     "output_type": "execute_result"
    }
   ],
   "source": [
    "db.cbd_info.count({\"$expr\": {\"mood\": \"Relaxed\"}})"
   ]
  },
  {
   "cell_type": "code",
   "execution_count": 2,
   "metadata": {},
   "outputs": [],
   "source": [
    "def shop_mood(moods):\n",
    "    filt = {}\n",
    "    project = {\"mood\": moods, \"_id\":0, \"product\":1}\n",
    "    result = db.cbd_info.find(filt, project)\n",
    "    results = list(result)\n",
    "    for products in results:\n",
    "            filt = {}\n",
    "            project = {\"mood\": moods, \"product\":products, \"shop\":1, \"CBD percentage\":1, \"_id\":0}\n",
    "            shops = db.cbd_shops.find(filt, project) #seguir iterando para hacer \n",
    "                                                    #query en ratings collection?\n",
    "    return list(shops)"
   ]
  },
  {
   "cell_type": "code",
   "execution_count": null,
   "metadata": {},
   "outputs": [],
   "source": [
    "\"\"\" STACKOVERFLOW:\n",
    "def findmood():\n",
    "    \n",
    "db.users.aggregate([{$lookup:\n",
    "  {\n",
    "        from: \"contacts\",\n",
    "        localField: \"number\",\n",
    "        foreignField: \"phonenumber\",\n",
    "        as: \"same\"\n",
    "    }\n",
    "   },\n",
    "   {\n",
    "      $match: { \"same\": { $ne: [] } }\n",
    "   }\n",
    "])\n",
    "\n",
    "\"\"\""
   ]
  }
 ],
 "metadata": {
  "kernelspec": {
   "display_name": "Python 3",
   "language": "python",
   "name": "python3"
  },
  "language_info": {
   "codemirror_mode": {
    "name": "ipython",
    "version": 3
   },
   "file_extension": ".py",
   "mimetype": "text/x-python",
   "name": "python",
   "nbconvert_exporter": "python",
   "pygments_lexer": "ipython3",
   "version": "3.9.1"
  }
 },
 "nbformat": 4,
 "nbformat_minor": 4
}
