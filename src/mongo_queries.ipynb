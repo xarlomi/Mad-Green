{
 "cells": [
  {
   "cell_type": "code",
   "execution_count": 1,
   "metadata": {},
   "outputs": [],
   "source": [
    "from mongoconnection import *\n",
    "import pandas as pd"
   ]
  },
  {
   "cell_type": "code",
   "execution_count": 2,
   "metadata": {},
   "outputs": [],
   "source": [
    "dat = pd.read_csv('../data/cbd_info2.csv')"
   ]
  },
  {
   "cell_type": "code",
   "execution_count": 3,
   "metadata": {},
   "outputs": [],
   "source": [
    "def lista ():\n",
    "    a = dat.Effects.unique()\n",
    "    b = [i.split(\",\") for i in a]\n",
    "    z = []\n",
    "    for j in b:\n",
    "        for k in j:\n",
    "            z.append(k)\n",
    "            z = list(set(z))\n",
    "            for x in z:\n",
    "                if x == \"None\" or x==\"Dry\" or x==\"Mouth\":\n",
    "                    z.remove(x)\n",
    "    return z"
   ]
  },
  {
   "cell_type": "code",
   "execution_count": 4,
   "metadata": {},
   "outputs": [
    {
     "data": {
      "text/plain": [
       "1825"
      ]
     },
     "execution_count": 4,
     "metadata": {},
     "output_type": "execute_result"
    }
   ],
   "source": [
    "filt = {\"mood\":{\"$regex\":\"Happy\"}}\n",
    "project = {\"mood\":1, \"product\":1, \"_id\":0}\n",
    "result = db.cbd_info.find(filt, project)\n",
    "len(list(result))"
   ]
  },
  {
   "cell_type": "code",
   "execution_count": 5,
   "metadata": {},
   "outputs": [
    {
     "name": "stderr",
     "output_type": "stream",
     "text": [
      "<ipython-input-5-b31db318e967>:1: DeprecationWarning: count is deprecated. Use estimated_document_count or count_documents instead. Please note that $where must be replaced by $expr, $near must be replaced by $geoWithin with $center, and $nearSphere must be replaced by $geoWithin with $centerSphere\n",
      "  db.cbd_info.count({\"mood\": {\"$regex\": \"Relaxed\"}})\n"
     ]
    },
    {
     "data": {
      "text/plain": [
       "1693"
      ]
     },
     "execution_count": 5,
     "metadata": {},
     "output_type": "execute_result"
    }
   ],
   "source": [
    "db.cbd_info.count({\"mood\": {\"$regex\": \"Relaxed\"}})"
   ]
  },
  {
   "cell_type": "code",
   "execution_count": 18,
   "metadata": {},
   "outputs": [],
   "source": [
    "def check_exists(query, collection, *pro):\n",
    "    res = read_coll(collection, query, pro)\n",
    "    if len(res) > 0:\n",
    "        return True\n",
    "    else:\n",
    "        return False"
   ]
  },
  {
   "cell_type": "code",
   "execution_count": 59,
   "metadata": {
    "scrolled": true
   },
   "outputs": [],
   "source": [
    "def shop_mood(moods):\n",
    "    \"\"\"\n",
    "    This queries one collection to another and returns a DF with the \n",
    "    available CBD product given the mood chosen by user\n",
    "    \"\"\"\n",
    "    filt = {\"mood\":{\"$regex\":f\"{moods}\"}}\n",
    "    project = {\"_id\":0, \"product\":1}\n",
    "    result = db.cbd_info.find(filt, project)\n",
    "    results= list(result)\n",
    "    \n",
    "    lista_res = []\n",
    "    for i in results:\n",
    "        q = {\"product\":i[\"product\"]}\n",
    "        pro = {\"_id\":0} \n",
    "        if check_exists(q, \"cbd_shops\"):\n",
    "            lista_res.append(read_coll(\"cbd_shops\",q,  pro))\n",
    "            flat_list = [item for sublist in lista_res for item in sublist]\n",
    "    return pd.DataFrame(flat_list)\n",
    "\n"
   ]
  },
  {
   "cell_type": "code",
   "execution_count": 60,
   "metadata": {},
   "outputs": [
    {
     "data": {
      "text/html": [
       "<div>\n",
       "<style scoped>\n",
       "    .dataframe tbody tr th:only-of-type {\n",
       "        vertical-align: middle;\n",
       "    }\n",
       "\n",
       "    .dataframe tbody tr th {\n",
       "        vertical-align: top;\n",
       "    }\n",
       "\n",
       "    .dataframe thead th {\n",
       "        text-align: right;\n",
       "    }\n",
       "</style>\n",
       "<table border=\"1\" class=\"dataframe\">\n",
       "  <thead>\n",
       "    <tr style=\"text-align: right;\">\n",
       "      <th></th>\n",
       "      <th>product</th>\n",
       "      <th>CBD percentage</th>\n",
       "      <th>price</th>\n",
       "      <th>shop</th>\n",
       "    </tr>\n",
       "  </thead>\n",
       "  <tbody>\n",
       "    <tr>\n",
       "      <th>0</th>\n",
       "      <td>Cashmere Leaf</td>\n",
       "      <td>5%</td>\n",
       "      <td>24,99 €</td>\n",
       "      <td>https://top-garden.net/es/flor-de-cbd/flor-de-...</td>\n",
       "    </tr>\n",
       "    <tr>\n",
       "      <th>1</th>\n",
       "      <td>Amnesia</td>\n",
       "      <td>4%</td>\n",
       "      <td>13,50 €</td>\n",
       "      <td>https://top-garden.net/es/flor-de-cbd/flor-de-...</td>\n",
       "    </tr>\n",
       "    <tr>\n",
       "      <th>2</th>\n",
       "      <td>Amnesia</td>\n",
       "      <td>4%</td>\n",
       "      <td>11,49 €</td>\n",
       "      <td>https://top-garden.net/es/flor-de-cbd/flor-de-...</td>\n",
       "    </tr>\n",
       "    <tr>\n",
       "      <th>3</th>\n",
       "      <td>Amnesia</td>\n",
       "      <td>6%</td>\n",
       "      <td>10,99 €</td>\n",
       "      <td>https://top-garden.net/es/flor-de-cbd/flor-de-...</td>\n",
       "    </tr>\n",
       "    <tr>\n",
       "      <th>4</th>\n",
       "      <td>Bubblegum</td>\n",
       "      <td>4%</td>\n",
       "      <td>13,50 €</td>\n",
       "      <td>https://top-garden.net/es/flor-de-cbd/flor-de-...</td>\n",
       "    </tr>\n",
       "    <tr>\n",
       "      <th>5</th>\n",
       "      <td>Purple</td>\n",
       "      <td>4%</td>\n",
       "      <td>10,99 €</td>\n",
       "      <td>https://top-garden.net/es/flor-de-cbd/flor-de-...</td>\n",
       "    </tr>\n",
       "    <tr>\n",
       "      <th>6</th>\n",
       "      <td>Cannatonic</td>\n",
       "      <td>4%</td>\n",
       "      <td>13,50 €</td>\n",
       "      <td>https://top-garden.net/es/flor-de-cbd/flor-de-...</td>\n",
       "    </tr>\n",
       "    <tr>\n",
       "      <th>7</th>\n",
       "      <td>Caramel Candy</td>\n",
       "      <td>3.5%</td>\n",
       "      <td>11,99 €</td>\n",
       "      <td>https://top-garden.net/es/flor-de-cbd/flor-de-...</td>\n",
       "    </tr>\n",
       "    <tr>\n",
       "      <th>8</th>\n",
       "      <td>Cheese</td>\n",
       "      <td>4%</td>\n",
       "      <td>13,50 €</td>\n",
       "      <td>https://top-garden.net/es/flor-de-cbd/flor-de-...</td>\n",
       "    </tr>\n",
       "    <tr>\n",
       "      <th>9</th>\n",
       "      <td>Candy Kush</td>\n",
       "      <td>5%</td>\n",
       "      <td>13,50 €</td>\n",
       "      <td>https://top-garden.net/es/flor-de-cbd/flor-de-...</td>\n",
       "    </tr>\n",
       "    <tr>\n",
       "      <th>10</th>\n",
       "      <td>Gelato</td>\n",
       "      <td>5%</td>\n",
       "      <td>12,99 €</td>\n",
       "      <td>https://top-garden.net/es/flor-de-cbd/flor-de-...</td>\n",
       "    </tr>\n",
       "    <tr>\n",
       "      <th>11</th>\n",
       "      <td>Green Gelato</td>\n",
       "      <td>4%</td>\n",
       "      <td>13,49 €</td>\n",
       "      <td>https://top-garden.net/es/flor-de-cbd/flor-de-...</td>\n",
       "    </tr>\n",
       "    <tr>\n",
       "      <th>12</th>\n",
       "      <td>Harlequin</td>\n",
       "      <td>5%</td>\n",
       "      <td>13,49 €</td>\n",
       "      <td>https://top-garden.net/es/flor-de-cbd/flor-de-...</td>\n",
       "    </tr>\n",
       "    <tr>\n",
       "      <th>13</th>\n",
       "      <td>Ice Moonrock</td>\n",
       "      <td>34%</td>\n",
       "      <td>25,99 €</td>\n",
       "      <td>https://top-garden.net/es/flor-de-cbd/ice-moon...</td>\n",
       "    </tr>\n",
       "    <tr>\n",
       "      <th>14</th>\n",
       "      <td>Orange Bud</td>\n",
       "      <td>3%</td>\n",
       "      <td>13,50 €</td>\n",
       "      <td>https://top-garden.net/es/flor-de-cbd/flor-de-...</td>\n",
       "    </tr>\n",
       "    <tr>\n",
       "      <th>15</th>\n",
       "      <td>Orange Bud</td>\n",
       "      <td>2%</td>\n",
       "      <td>11,49 €</td>\n",
       "      <td>https://top-garden.net/es/flor-de-cbd/flor-de-...</td>\n",
       "    </tr>\n",
       "    <tr>\n",
       "      <th>16</th>\n",
       "      <td>Rollex OG</td>\n",
       "      <td>5%</td>\n",
       "      <td>25,99 €</td>\n",
       "      <td>https://top-garden.net/es/flor-de-cbd/flor-de-...</td>\n",
       "    </tr>\n",
       "    <tr>\n",
       "      <th>17</th>\n",
       "      <td>Silver Bud</td>\n",
       "      <td>5%</td>\n",
       "      <td>13,50 €</td>\n",
       "      <td>https://top-garden.net/es/flor-de-cbd/flor-de-...</td>\n",
       "    </tr>\n",
       "    <tr>\n",
       "      <th>18</th>\n",
       "      <td>Strawberry Kush</td>\n",
       "      <td>4%</td>\n",
       "      <td>13,49 €</td>\n",
       "      <td>https://top-garden.net/es/flor-de-cbd/flor-de-...</td>\n",
       "    </tr>\n",
       "    <tr>\n",
       "      <th>19</th>\n",
       "      <td>White Haze</td>\n",
       "      <td>5%</td>\n",
       "      <td>13,50 €</td>\n",
       "      <td>https://top-garden.net/es/flor-de-cbd/flor-de-...</td>\n",
       "    </tr>\n",
       "    <tr>\n",
       "      <th>20</th>\n",
       "      <td>White Widow</td>\n",
       "      <td>2.5%</td>\n",
       "      <td>9,99 €</td>\n",
       "      <td>https://top-garden.net/es/flor-de-cbd/flor-de-...</td>\n",
       "    </tr>\n",
       "    <tr>\n",
       "      <th>21</th>\n",
       "      <td>White Widow</td>\n",
       "      <td>6%</td>\n",
       "      <td>10,99 €</td>\n",
       "      <td>https://top-garden.net/es/flor-de-cbd/flor-de-...</td>\n",
       "    </tr>\n",
       "  </tbody>\n",
       "</table>\n",
       "</div>"
      ],
      "text/plain": [
       "            product CBD percentage    price  \\\n",
       "0     Cashmere Leaf             5%  24,99 €   \n",
       "1           Amnesia             4%  13,50 €   \n",
       "2           Amnesia             4%  11,49 €   \n",
       "3           Amnesia             6%  10,99 €   \n",
       "4         Bubblegum             4%  13,50 €   \n",
       "5            Purple             4%  10,99 €   \n",
       "6        Cannatonic             4%  13,50 €   \n",
       "7     Caramel Candy           3.5%  11,99 €   \n",
       "8            Cheese             4%  13,50 €   \n",
       "9        Candy Kush             5%  13,50 €   \n",
       "10           Gelato             5%  12,99 €   \n",
       "11     Green Gelato             4%  13,49 €   \n",
       "12        Harlequin             5%  13,49 €   \n",
       "13     Ice Moonrock            34%  25,99 €   \n",
       "14       Orange Bud             3%  13,50 €   \n",
       "15       Orange Bud             2%  11,49 €   \n",
       "16        Rollex OG             5%  25,99 €   \n",
       "17       Silver Bud             5%  13,50 €   \n",
       "18  Strawberry Kush             4%  13,49 €   \n",
       "19       White Haze             5%  13,50 €   \n",
       "20      White Widow           2.5%   9,99 €   \n",
       "21      White Widow             6%  10,99 €   \n",
       "\n",
       "                                                 shop  \n",
       "0   https://top-garden.net/es/flor-de-cbd/flor-de-...  \n",
       "1   https://top-garden.net/es/flor-de-cbd/flor-de-...  \n",
       "2   https://top-garden.net/es/flor-de-cbd/flor-de-...  \n",
       "3   https://top-garden.net/es/flor-de-cbd/flor-de-...  \n",
       "4   https://top-garden.net/es/flor-de-cbd/flor-de-...  \n",
       "5   https://top-garden.net/es/flor-de-cbd/flor-de-...  \n",
       "6   https://top-garden.net/es/flor-de-cbd/flor-de-...  \n",
       "7   https://top-garden.net/es/flor-de-cbd/flor-de-...  \n",
       "8   https://top-garden.net/es/flor-de-cbd/flor-de-...  \n",
       "9   https://top-garden.net/es/flor-de-cbd/flor-de-...  \n",
       "10  https://top-garden.net/es/flor-de-cbd/flor-de-...  \n",
       "11  https://top-garden.net/es/flor-de-cbd/flor-de-...  \n",
       "12  https://top-garden.net/es/flor-de-cbd/flor-de-...  \n",
       "13  https://top-garden.net/es/flor-de-cbd/ice-moon...  \n",
       "14  https://top-garden.net/es/flor-de-cbd/flor-de-...  \n",
       "15  https://top-garden.net/es/flor-de-cbd/flor-de-...  \n",
       "16  https://top-garden.net/es/flor-de-cbd/flor-de-...  \n",
       "17  https://top-garden.net/es/flor-de-cbd/flor-de-...  \n",
       "18  https://top-garden.net/es/flor-de-cbd/flor-de-...  \n",
       "19  https://top-garden.net/es/flor-de-cbd/flor-de-...  \n",
       "20  https://top-garden.net/es/flor-de-cbd/flor-de-...  \n",
       "21  https://top-garden.net/es/flor-de-cbd/flor-de-...  "
      ]
     },
     "execution_count": 60,
     "metadata": {},
     "output_type": "execute_result"
    }
   ],
   "source": [
    "shop_mood(\"Happy\")"
   ]
  },
  {
   "cell_type": "code",
   "execution_count": 48,
   "metadata": {
    "scrolled": true
   },
   "outputs": [],
   "source": [
    "def shop_mood(moods):\n",
    "    filt = {\"mood\":{\"$regex\":f\"{moods}\"}}\n",
    "    project = {\"_id\":0, \"product\":1}\n",
    "    result = db.cbd_info.find(filt, project)\n",
    "    results= list(result)\n",
    "    \n",
    "    lista_res = []\n",
    "    for i in results:\n",
    "        q = {\"product\":i[\"product\"]}\n",
    "        pro = {\"_id\":0} \n",
    "        if check_exists(q, \"cbd_shops\"):\n",
    "            lista_res.append(read_coll(\"cbd_shops\",q,  pro))\n",
    "            \n",
    "            lista_ratings = []\n",
    "            for ratings in lista_res:\n",
    "                    qu= {\"product\":i[\"product\"]}\n",
    "                    pro = {\"_id\":0}\n",
    "                    if check_exists(q, \"cbd_ratings\"):\n",
    "                           lista_ratings.append(read_coll(\"cbd_ratings\",q, pro))\n",
    "                    \n",
    "\n",
    "\n",
    "    return lista_ratings\n",
    "\n"
   ]
  },
  {
   "cell_type": "code",
   "execution_count": 49,
   "metadata": {},
   "outputs": [
    {
     "data": {
      "text/plain": [
       "[[{'product': 'White Widow', 'rating': 4.3}],\n",
       " [{'product': 'White Widow', 'rating': 4.3}],\n",
       " [{'product': 'White Widow', 'rating': 4.3}],\n",
       " [{'product': 'White Widow', 'rating': 4.3}],\n",
       " [{'product': 'White Widow', 'rating': 4.3}],\n",
       " [{'product': 'White Widow', 'rating': 4.3}],\n",
       " [{'product': 'White Widow', 'rating': 4.3}],\n",
       " [{'product': 'White Widow', 'rating': 4.3}],\n",
       " [{'product': 'White Widow', 'rating': 4.3}],\n",
       " [{'product': 'White Widow', 'rating': 4.3}],\n",
       " [{'product': 'White Widow', 'rating': 4.3}],\n",
       " [{'product': 'White Widow', 'rating': 4.3}],\n",
       " [{'product': 'White Widow', 'rating': 4.3}],\n",
       " [{'product': 'White Widow', 'rating': 4.3}],\n",
       " [{'product': 'White Widow', 'rating': 4.3}],\n",
       " [{'product': 'White Widow', 'rating': 4.3}],\n",
       " [{'product': 'White Widow', 'rating': 4.3}],\n",
       " [{'product': 'White Widow', 'rating': 4.3}]]"
      ]
     },
     "execution_count": 49,
     "metadata": {},
     "output_type": "execute_result"
    }
   ],
   "source": [
    "shop_mood(\"Happy\")"
   ]
  },
  {
   "cell_type": "code",
   "execution_count": 128,
   "metadata": {},
   "outputs": [
    {
     "data": {
      "text/plain": [
       "' STACKOVERFLOW:\\ndef findmood():\\n    \\ndb.users.aggregate([{$lookup:\\n  {\\n        from: \"contacts\",\\n        localField: \"number\",\\n        foreignField: \"phonenumber\",\\n        as: \"same\"\\n    }\\n   },\\n   {\\n      $match: { \"same\": { $ne: [] } }\\n   }\\n])\\n\\n'"
      ]
     },
     "execution_count": 128,
     "metadata": {},
     "output_type": "execute_result"
    }
   ],
   "source": [
    "\"\"\" STACKOVERFLOW:\n",
    "def findmood():\n",
    "    \n",
    "db.users.aggregate([{$lookup:\n",
    "  {\n",
    "        from: \"contacts\",\n",
    "        localField: \"number\",\n",
    "        foreignField: \"phonenumber\",\n",
    "        as: \"same\"\n",
    "    }\n",
    "   },\n",
    "   {\n",
    "      $match: { \"same\": { $ne: [] } }\n",
    "   }\n",
    "])\n",
    "\n",
    "\"\"\""
   ]
  },
  {
   "cell_type": "code",
   "execution_count": null,
   "metadata": {},
   "outputs": [],
   "source": []
  }
 ],
 "metadata": {
  "kernelspec": {
   "display_name": "Python 3",
   "language": "python",
   "name": "python3"
  },
  "language_info": {
   "codemirror_mode": {
    "name": "ipython",
    "version": 3
   },
   "file_extension": ".py",
   "mimetype": "text/x-python",
   "name": "python",
   "nbconvert_exporter": "python",
   "pygments_lexer": "ipython3",
   "version": "3.9.1"
  }
 },
 "nbformat": 4,
 "nbformat_minor": 4
}
