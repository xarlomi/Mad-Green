{
 "cells": [
  {
   "cell_type": "code",
   "execution_count": 1,
   "metadata": {},
   "outputs": [],
   "source": [
    "from mongoconnection import *\n",
    "import pandas as pd"
   ]
  },
  {
   "cell_type": "code",
   "execution_count": 2,
   "metadata": {},
   "outputs": [],
   "source": [
    "dat = pd.read_csv('../data/cbd_info2.csv')"
   ]
  },
  {
   "cell_type": "code",
   "execution_count": 3,
   "metadata": {},
   "outputs": [],
   "source": [
    "def lista ():\n",
    "    a = dat.Effects.unique()\n",
    "    b = [i.split(\",\") for i in a]\n",
    "    z = []\n",
    "    for j in b:\n",
    "        for k in j:\n",
    "            z.append(k)\n",
    "            z = list(set(z))\n",
    "            for x in z:\n",
    "                if x == \"None\" or x==\"Dry\" or x==\"Mouth\":\n",
    "                    z.remove(x)\n",
    "    return z"
   ]
  },
  {
   "cell_type": "code",
   "execution_count": 4,
   "metadata": {},
   "outputs": [
    {
     "data": {
      "text/plain": [
       "1825"
      ]
     },
     "execution_count": 4,
     "metadata": {},
     "output_type": "execute_result"
    }
   ],
   "source": [
    "filt = {\"mood\":{\"$regex\":\"Happy\"}}\n",
    "project = {\"mood\":1, \"product\":1, \"_id\":0}\n",
    "result = db.cbd_info.find(filt, project)\n",
    "len(list(result))"
   ]
  },
  {
   "cell_type": "code",
   "execution_count": 5,
   "metadata": {},
   "outputs": [
    {
     "name": "stderr",
     "output_type": "stream",
     "text": [
      "<ipython-input-5-b31db318e967>:1: DeprecationWarning: count is deprecated. Use estimated_document_count or count_documents instead. Please note that $where must be replaced by $expr, $near must be replaced by $geoWithin with $center, and $nearSphere must be replaced by $geoWithin with $centerSphere\n",
      "  db.cbd_info.count({\"mood\": {\"$regex\": \"Relaxed\"}})\n"
     ]
    },
    {
     "data": {
      "text/plain": [
       "1693"
      ]
     },
     "execution_count": 5,
     "metadata": {},
     "output_type": "execute_result"
    }
   ],
   "source": [
    "db.cbd_info.count({\"mood\": {\"$regex\": \"Relaxed\"}})"
   ]
  },
  {
   "cell_type": "code",
   "execution_count": 6,
   "metadata": {},
   "outputs": [],
   "source": [
    "def shop_mood(moods):\n",
    "    filt = {\"mood\":{\"$regex\":f\"{moods}\"}}\n",
    "    project = {\"mood\": 1, \"_id\":0, \"product\":1}\n",
    "    result = db.cbd_info.find(filt, project)\n",
    "    results = list(result)\n",
    "    for products in results:\n",
    "            filt = {\"product\":{\"$regex\":f\"{products}\"}}\n",
    "            project = {\"mood\": 1, \"product\":1, \"shop\":1, \"CBD percentage\":1, \"_id\":0}\n",
    "            shops = db.cbd_shops.find(filt, project) #seguir iterando para hacer \n",
    "                                                    #query en ratings collection?\n",
    "    return list(shops)"
   ]
  },
  {
   "cell_type": "code",
   "execution_count": 7,
   "metadata": {},
   "outputs": [
    {
     "data": {
      "text/plain": [
       "[]"
      ]
     },
     "execution_count": 7,
     "metadata": {},
     "output_type": "execute_result"
    }
   ],
   "source": [
    "shop_mood(\"Happy\")"
   ]
  },
  {
   "cell_type": "code",
   "execution_count": 18,
   "metadata": {},
   "outputs": [],
   "source": [
    "def check_exists(query, collection, *pro):\n",
    "    res = read_coll(collection, query, pro)\n",
    "    if len(res) > 0:\n",
    "        return True\n",
    "    else:\n",
    "        return False"
   ]
  },
  {
   "cell_type": "code",
   "execution_count": 19,
   "metadata": {
    "scrolled": true
   },
   "outputs": [
    {
     "data": {
      "text/plain": [
       "[[{'product': 'Amnesia',\n",
       "   'CBD percentage': '4%',\n",
       "   'price': '13,50 €',\n",
       "   'shop': 'https://top-garden.net/es/flor-de-cbd/flor-de-cbd-amnesia-4-cbd-flor-de-canamo'},\n",
       "  {'product': 'Amnesia',\n",
       "   'CBD percentage': '4%',\n",
       "   'price': '11,49 €',\n",
       "   'shop': 'https://top-garden.net/es/flor-de-cbd/flor-de-cbd-amnesia-4-cbd-flor-de-canamo'},\n",
       "  {'product': 'Amnesia',\n",
       "   'CBD percentage': '6%',\n",
       "   'price': '10,99 €',\n",
       "   'shop': 'https://top-garden.net/es/flor-de-cbd/flor-de-cbg-amnesia-6-cbg-flor-de-canamo'}],\n",
       " [{'product': 'Caramel Candy',\n",
       "   'CBD percentage': '3.5%',\n",
       "   'price': '11,99 €',\n",
       "   'shop': 'https://top-garden.net/es/flor-de-cbd/flor-de-cbd-caramel-candy-35-cbd-flor-de-canamo'}],\n",
       " [{'product': 'Royal Cheese',\n",
       "   'CBD percentage': '5%',\n",
       "   'price': '11,99 €',\n",
       "   'shop': 'https://top-garden.net/es/flor-de-cbd/flor-de-cbd-royal-cheese-5-cbd-flor-de-canamo'}],\n",
       " [{'product': 'Gelato',\n",
       "   'CBD percentage': '5%',\n",
       "   'price': '12,99 €',\n",
       "   'shop': 'https://top-garden.net/es/flor-de-cbd/flor-de-cbd-gelato-33-5-cbd-flor-de-canamo'}],\n",
       " [{'product': 'Green Gelato',\n",
       "   'CBD percentage': '4%',\n",
       "   'price': '13,49 €',\n",
       "   'shop': 'https://top-garden.net/es/flor-de-cbd/flor-de-cbd-green-gelato-4-cbd-flor-de-canamo'}],\n",
       " [{'product': 'Rollex OG',\n",
       "   'CBD percentage': '5%',\n",
       "   'price': '25,99 €',\n",
       "   'shop': 'https://top-garden.net/es/flor-de-cbd/flor-de-cbd-rollex-og-5-cbd-flor-de-canamo'}],\n",
       " [{'product': 'Silver Bud',\n",
       "   'CBD percentage': '5%',\n",
       "   'price': '13,50 €',\n",
       "   'shop': 'https://top-garden.net/es/flor-de-cbd/flor-de-cbd-silver-bud-5-cbd-flor-de-canamo'}],\n",
       " [{'product': 'White Haze',\n",
       "   'CBD percentage': '5%',\n",
       "   'price': '13,50 €',\n",
       "   'shop': 'https://top-garden.net/es/flor-de-cbd/flor-de-cbd-white-haze-5-cbd-flor-de-canamo'}]]"
      ]
     },
     "execution_count": 19,
     "metadata": {},
     "output_type": "execute_result"
    }
   ],
   "source": [
    "def shop_mood(moods):\n",
    "    filt = {\"mood\":{\"$regex\":f\"{moods}\"}}\n",
    "    project = {\"_id\":0, \"product\":1}\n",
    "    result = db.cbd_info.find(filt, project)\n",
    "    results= list(result)\n",
    "    \n",
    "    lista_res = []\n",
    "    for i in results:\n",
    "        q = {\"product\":i[\"product\"]}\n",
    "        pro = {\"_id\":0} \n",
    "        if check_exists(q, \"cbd_shops\"):\n",
    "            lista_res.append(read_coll(\"cbd_shops\",q,  pro))\n",
    "\n",
    "    return lista_res\n",
    "\n",
    "shop_mood(\"Creative\")"
   ]
  },
  {
   "cell_type": "code",
   "execution_count": 128,
   "metadata": {},
   "outputs": [
    {
     "data": {
      "text/plain": [
       "' STACKOVERFLOW:\\ndef findmood():\\n    \\ndb.users.aggregate([{$lookup:\\n  {\\n        from: \"contacts\",\\n        localField: \"number\",\\n        foreignField: \"phonenumber\",\\n        as: \"same\"\\n    }\\n   },\\n   {\\n      $match: { \"same\": { $ne: [] } }\\n   }\\n])\\n\\n'"
      ]
     },
     "execution_count": 128,
     "metadata": {},
     "output_type": "execute_result"
    }
   ],
   "source": [
    "\"\"\" STACKOVERFLOW:\n",
    "def findmood():\n",
    "    \n",
    "db.users.aggregate([{$lookup:\n",
    "  {\n",
    "        from: \"contacts\",\n",
    "        localField: \"number\",\n",
    "        foreignField: \"phonenumber\",\n",
    "        as: \"same\"\n",
    "    }\n",
    "   },\n",
    "   {\n",
    "      $match: { \"same\": { $ne: [] } }\n",
    "   }\n",
    "])\n",
    "\n",
    "\"\"\""
   ]
  },
  {
   "cell_type": "code",
   "execution_count": null,
   "metadata": {},
   "outputs": [],
   "source": []
  }
 ],
 "metadata": {
  "kernelspec": {
   "display_name": "Python 3",
   "language": "python",
   "name": "python3"
  },
  "language_info": {
   "codemirror_mode": {
    "name": "ipython",
    "version": 3
   },
   "file_extension": ".py",
   "mimetype": "text/x-python",
   "name": "python",
   "nbconvert_exporter": "python",
   "pygments_lexer": "ipython3",
   "version": "3.9.1"
  }
 },
 "nbformat": 4,
 "nbformat_minor": 4
}
