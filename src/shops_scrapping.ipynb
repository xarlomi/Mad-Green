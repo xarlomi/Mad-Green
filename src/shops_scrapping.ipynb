{
 "cells": [
  {
   "cell_type": "code",
   "execution_count": 242,
   "metadata": {},
   "outputs": [],
   "source": [
    "from selenium import webdriver\n",
    "from selenium.webdriver.common.keys import Keys\n",
    "from bleach import linkify\n",
    "from time import sleep\n",
    "import pandas as pd"
   ]
  },
  {
   "cell_type": "code",
   "execution_count": 215,
   "metadata": {},
   "outputs": [
    {
     "name": "stderr",
     "output_type": "stream",
     "text": [
      "[WDM] - ====== WebDriver manager ======\n"
     ]
    },
    {
     "name": "stdout",
     "output_type": "stream",
     "text": [
      "\n",
      "\n"
     ]
    },
    {
     "name": "stderr",
     "output_type": "stream",
     "text": [
      "[WDM] - Current google-chrome version is 88.0.4324\n",
      "[WDM] - Get LATEST driver version for 88.0.4324\n",
      "[WDM] - Driver [/Users/carlotaportillo/.wdm/drivers/chromedriver/mac64/88.0.4324.96/chromedriver] found in cache\n"
     ]
    }
   ],
   "source": [
    "from webdriver_manager.chrome import ChromeDriverManager\n",
    "driver = webdriver.Chrome(ChromeDriverManager().install())"
   ]
  },
  {
   "cell_type": "code",
   "execution_count": 8,
   "metadata": {},
   "outputs": [],
   "source": [
    "driver.get(\"https://mamaselvae.com/collections/biocosmetica-cbd\")"
   ]
  },
  {
   "cell_type": "code",
   "execution_count": 61,
   "metadata": {},
   "outputs": [],
   "source": [
    "def treepopup():    \n",
    "    driver.get(\"https://thetreecbd.com/cogollos/\")\n",
    "    try:\n",
    "        lax = \"/html/body/div[1]/div/div/div/a\"\n",
    "        driver.find_element_by_xpath(lax).click()\n",
    "    except: \n",
    "        pass"
   ]
  },
  {
   "cell_type": "code",
   "execution_count": 62,
   "metadata": {},
   "outputs": [],
   "source": [
    "treepopup()"
   ]
  },
  {
   "cell_type": "code",
   "execution_count": 70,
   "metadata": {},
   "outputs": [],
   "source": [
    "def topgarden_popup():\n",
    "    driver.get(\"https://top-garden.net/es/flor-de-cbd\")\n",
    "    try:\n",
    "        driver.find_element_by_xpath('/html/body/div[2]/div/button/span[2]').click()\n",
    "    except:\n",
    "        pass"
   ]
  },
  {
   "cell_type": "code",
   "execution_count": 71,
   "metadata": {},
   "outputs": [],
   "source": [
    "topgarden_popup()"
   ]
  },
  {
   "cell_type": "code",
   "execution_count": null,
   "metadata": {},
   "outputs": [],
   "source": [
    "driver"
   ]
  },
  {
   "cell_type": "code",
   "execution_count": 83,
   "metadata": {},
   "outputs": [],
   "source": [
    "names_webs = Scrapingarden()"
   ]
  },
  {
   "cell_type": "code",
   "execution_count": 84,
   "metadata": {},
   "outputs": [
    {
     "data": {
      "text/plain": [
       "18"
      ]
     },
     "execution_count": 84,
     "metadata": {},
     "output_type": "execute_result"
    }
   ],
   "source": [
    "len(names_webs)"
   ]
  },
  {
   "cell_type": "code",
   "execution_count": 141,
   "metadata": {},
   "outputs": [],
   "source": [
    "def Scrapingarden2():\n",
    "    driver.get(\"https://top-garden.net/es/flor-de-cbd\")\n",
    "    \n",
    "    pageInfo = []\n",
    "    searchResults = driver.find_elements_by_class_name('product-description')\n",
    "    sleep(5)\n",
    "    for result in searchResults:\n",
    "        element = result.find_element_by_css_selector('a')\n",
    "        sleep(2)\n",
    "        link = element.get_attribute('href')\n",
    "        product = element.get_attribute('alt')\n",
    "    \n",
    "        precio = result.find_element_by_class_name('price').text\n",
    "        sleep(2)\n",
    "        pageInfo.append({'Product': product, \"website\": link, 'price':precio })\n",
    "    return pageInfo"
   ]
  },
  {
   "cell_type": "code",
   "execution_count": 142,
   "metadata": {},
   "outputs": [],
   "source": [
    "page1 = Scrapingarden2()"
   ]
  },
  {
   "cell_type": "code",
   "execution_count": 144,
   "metadata": {},
   "outputs": [
    {
     "data": {
      "text/plain": [
       "[{'Product': 'Flor de CBD Bubblegum 4% CBD - Flor de Cañamo',\n",
       "  'website': 'https://top-garden.net/es/flor-de-cbd/flor-de-cbd-bubblegum-4-cbd-flor-de-canamo',\n",
       "  'price': '13,50 €'},\n",
       " {'Product': 'Flor de CBD Cannatonic 4% CBD - Flor de Cañamo',\n",
       "  'website': 'https://top-garden.net/es/flor-de-cbd/flor-de-cbd-cannatonic-4-cbd-flor-de-canamo',\n",
       "  'price': '13,50 €'},\n",
       " {'Product': 'Flor de CBD Orange Bud 3% CBD - Flor de Cañamo',\n",
       "  'website': 'https://top-garden.net/es/flor-de-cbd/flor-de-cbd-orange-bud-3-cbd-flor-de-canamo',\n",
       "  'price': '13,50 €'},\n",
       " {'Product': 'Flor de CBD Candy Kush 5% CBD - Flor de Cañamo',\n",
       "  'website': 'https://top-garden.net/es/flor-de-cbd/flor-de-cbd-candy-kush-5-cbd-flor-de-canamo',\n",
       "  'price': '13,50 €'},\n",
       " {'Product': 'Flor de CBD Cheese 4% CBD - Flor de Cañamo',\n",
       "  'website': 'https://top-garden.net/es/flor-de-cbd/flor-de-cbd-cheese-4-cbd-flor-de-canamo',\n",
       "  'price': '13,50 €'},\n",
       " {'Product': 'Flor de CBD White Haze 5% CBD - Flor de Cañamo',\n",
       "  'website': 'https://top-garden.net/es/flor-de-cbd/flor-de-cbd-white-haze-5-cbd-flor-de-canamo',\n",
       "  'price': '13,50 €'},\n",
       " {'Product': 'Flor de CBD Amnesia 4% CBD - Flor de Cañamo',\n",
       "  'website': 'https://top-garden.net/es/flor-de-cbd/flor-de-cbd-amnesia-4-cbd-flor-de-canamo',\n",
       "  'price': '13,50 €'},\n",
       " {'Product': 'Flor de CBD Caramel Candy 3.5% CBD - Flor de Cañamo',\n",
       "  'website': 'https://top-garden.net/es/flor-de-cbd/flor-de-cbd-caramel-candy-35-cbd-flor-de-canamo',\n",
       "  'price': '11,99 €'},\n",
       " {'Product': 'Flor de CBD Amnesia 4% CBD - Flor de Cañamo',\n",
       "  'website': 'https://top-garden.net/es/flor-de-cbd/flor-de-cbd-amnesia-4-cbd-flor-de-canamo',\n",
       "  'price': '11,49 €'},\n",
       " {'Product': 'Flor de CBD Gelato 33 5% CBD - Flor de Cañamo',\n",
       "  'website': 'https://top-garden.net/es/flor-de-cbd/flor-de-cbd-gelato-33-5-cbd-flor-de-canamo',\n",
       "  'price': '12,99 €'},\n",
       " {'Product': 'Flor de CBD Strawberry Kush 4% CBD - Flor de Cañamo',\n",
       "  'website': 'https://top-garden.net/es/flor-de-cbd/flor-de-cbd-strawberry-kush-4-cbd-flor-de-canamo',\n",
       "  'price': '13,49 €'},\n",
       " {'Product': 'Flor de CBD Green Gelato 4% CBD - Flor de Cañamo',\n",
       "  'website': 'https://top-garden.net/es/flor-de-cbd/flor-de-cbd-green-gelato-4-cbd-flor-de-canamo',\n",
       "  'price': '13,49 €'},\n",
       " {'Product': 'Flor de CBD Harlequin 5% CBD - Flor de Cañamo',\n",
       "  'website': 'https://top-garden.net/es/flor-de-cbd/flor-de-cbd-harlequin-5-cbd-flor-de-canamo',\n",
       "  'price': '13,49 €'},\n",
       " {'Product': 'Flor de CBD Orange Bud 2% CBD - Flor de Cañamo',\n",
       "  'website': 'https://top-garden.net/es/flor-de-cbd/flor-de-cbd-orange-bud-2-cbd-flor-de-canamo',\n",
       "  'price': '11,49 €'},\n",
       " {'Product': 'Flor de CBD White Widow 2.5% CBD - Flor de Cañamo',\n",
       "  'website': 'https://top-garden.net/es/flor-de-cbd/flor-de-cbd-white-widow-25-cbd-flor-de-canamo',\n",
       "  'price': '9,99 €'},\n",
       " {'Product': 'Flor de CBD Royal Cheese 5% CBD - Flor de Cañamo',\n",
       "  'website': 'https://top-garden.net/es/flor-de-cbd/flor-de-cbd-royal-cheese-5-cbd-flor-de-canamo',\n",
       "  'price': '11,99 €'},\n",
       " {'Product': 'Flor de CBD Purple 4% CBD - Flor de Cañamo',\n",
       "  'website': 'https://top-garden.net/es/flor-de-cbd/flor-de-cbd-purple-4-cbd-flor-de-canamo',\n",
       "  'price': '10,99 €'},\n",
       " {'Product': 'Moonrock CBD 10% CBD - Flor de Cañamo',\n",
       "  'website': 'https://top-garden.net/es/flor-de-cbd/moonrock-cbd-10-cbd-flor-de-canamo',\n",
       "  'price': '25,99 €'}]"
      ]
     },
     "execution_count": 144,
     "metadata": {},
     "output_type": "execute_result"
    }
   ],
   "source": [
    "page1"
   ]
  },
  {
   "cell_type": "code",
   "execution_count": 107,
   "metadata": {},
   "outputs": [],
   "source": [
    "def Scrapgardenpg2():\n",
    "    driver.get('https://top-garden.net/es/flor-de-cbd?page=2')    \n",
    "    pageInfo = []\n",
    "    searchResults = driver.find_elements_by_class_name('product-description')\n",
    "    sleep(5)\n",
    "    for result in searchResults:\n",
    "        element = result.find_element_by_css_selector('a')\n",
    "        sleep(2)\n",
    "        link = element.get_attribute('href')\n",
    "        product = element.get_attribute('alt')\n",
    "    \n",
    "        precio = result.find_element_by_class_name('price').text\n",
    "        sleep(2)\n",
    "        pageInfo.append({'Product': product, \"website\": link, 'price':precio })\n",
    "    return pageInfo"
   ]
  },
  {
   "cell_type": "code",
   "execution_count": 145,
   "metadata": {},
   "outputs": [],
   "source": [
    "page2 = Scrapgardenpg2()"
   ]
  },
  {
   "cell_type": "code",
   "execution_count": 147,
   "metadata": {},
   "outputs": [],
   "source": [
    "Scrapin_garden = [*page1, *page2]"
   ]
  },
  {
   "cell_type": "code",
   "execution_count": 148,
   "metadata": {},
   "outputs": [
    {
     "data": {
      "text/plain": [
       "[{'Product': 'Flor de CBD Bubblegum 4% CBD - Flor de Cañamo',\n",
       "  'website': 'https://top-garden.net/es/flor-de-cbd/flor-de-cbd-bubblegum-4-cbd-flor-de-canamo',\n",
       "  'price': '13,50 €'},\n",
       " {'Product': 'Flor de CBD Cannatonic 4% CBD - Flor de Cañamo',\n",
       "  'website': 'https://top-garden.net/es/flor-de-cbd/flor-de-cbd-cannatonic-4-cbd-flor-de-canamo',\n",
       "  'price': '13,50 €'},\n",
       " {'Product': 'Flor de CBD Orange Bud 3% CBD - Flor de Cañamo',\n",
       "  'website': 'https://top-garden.net/es/flor-de-cbd/flor-de-cbd-orange-bud-3-cbd-flor-de-canamo',\n",
       "  'price': '13,50 €'},\n",
       " {'Product': 'Flor de CBD Candy Kush 5% CBD - Flor de Cañamo',\n",
       "  'website': 'https://top-garden.net/es/flor-de-cbd/flor-de-cbd-candy-kush-5-cbd-flor-de-canamo',\n",
       "  'price': '13,50 €'},\n",
       " {'Product': 'Flor de CBD Cheese 4% CBD - Flor de Cañamo',\n",
       "  'website': 'https://top-garden.net/es/flor-de-cbd/flor-de-cbd-cheese-4-cbd-flor-de-canamo',\n",
       "  'price': '13,50 €'},\n",
       " {'Product': 'Flor de CBD White Haze 5% CBD - Flor de Cañamo',\n",
       "  'website': 'https://top-garden.net/es/flor-de-cbd/flor-de-cbd-white-haze-5-cbd-flor-de-canamo',\n",
       "  'price': '13,50 €'},\n",
       " {'Product': 'Flor de CBD Amnesia 4% CBD - Flor de Cañamo',\n",
       "  'website': 'https://top-garden.net/es/flor-de-cbd/flor-de-cbd-amnesia-4-cbd-flor-de-canamo',\n",
       "  'price': '13,50 €'},\n",
       " {'Product': 'Flor de CBD Caramel Candy 3.5% CBD - Flor de Cañamo',\n",
       "  'website': 'https://top-garden.net/es/flor-de-cbd/flor-de-cbd-caramel-candy-35-cbd-flor-de-canamo',\n",
       "  'price': '11,99 €'},\n",
       " {'Product': 'Flor de CBD Amnesia 4% CBD - Flor de Cañamo',\n",
       "  'website': 'https://top-garden.net/es/flor-de-cbd/flor-de-cbd-amnesia-4-cbd-flor-de-canamo',\n",
       "  'price': '11,49 €'},\n",
       " {'Product': 'Flor de CBD Gelato 33 5% CBD - Flor de Cañamo',\n",
       "  'website': 'https://top-garden.net/es/flor-de-cbd/flor-de-cbd-gelato-33-5-cbd-flor-de-canamo',\n",
       "  'price': '12,99 €'},\n",
       " {'Product': 'Flor de CBD Strawberry Kush 4% CBD - Flor de Cañamo',\n",
       "  'website': 'https://top-garden.net/es/flor-de-cbd/flor-de-cbd-strawberry-kush-4-cbd-flor-de-canamo',\n",
       "  'price': '13,49 €'},\n",
       " {'Product': 'Flor de CBD Green Gelato 4% CBD - Flor de Cañamo',\n",
       "  'website': 'https://top-garden.net/es/flor-de-cbd/flor-de-cbd-green-gelato-4-cbd-flor-de-canamo',\n",
       "  'price': '13,49 €'},\n",
       " {'Product': 'Flor de CBD Harlequin 5% CBD - Flor de Cañamo',\n",
       "  'website': 'https://top-garden.net/es/flor-de-cbd/flor-de-cbd-harlequin-5-cbd-flor-de-canamo',\n",
       "  'price': '13,49 €'},\n",
       " {'Product': 'Flor de CBD Orange Bud 2% CBD - Flor de Cañamo',\n",
       "  'website': 'https://top-garden.net/es/flor-de-cbd/flor-de-cbd-orange-bud-2-cbd-flor-de-canamo',\n",
       "  'price': '11,49 €'},\n",
       " {'Product': 'Flor de CBD White Widow 2.5% CBD - Flor de Cañamo',\n",
       "  'website': 'https://top-garden.net/es/flor-de-cbd/flor-de-cbd-white-widow-25-cbd-flor-de-canamo',\n",
       "  'price': '9,99 €'},\n",
       " {'Product': 'Flor de CBD Royal Cheese 5% CBD - Flor de Cañamo',\n",
       "  'website': 'https://top-garden.net/es/flor-de-cbd/flor-de-cbd-royal-cheese-5-cbd-flor-de-canamo',\n",
       "  'price': '11,99 €'},\n",
       " {'Product': 'Flor de CBD Purple 4% CBD - Flor de Cañamo',\n",
       "  'website': 'https://top-garden.net/es/flor-de-cbd/flor-de-cbd-purple-4-cbd-flor-de-canamo',\n",
       "  'price': '10,99 €'},\n",
       " {'Product': 'Moonrock CBD 10% CBD - Flor de Cañamo',\n",
       "  'website': 'https://top-garden.net/es/flor-de-cbd/moonrock-cbd-10-cbd-flor-de-canamo',\n",
       "  'price': '25,99 €'},\n",
       " {'Product': 'Flor de CBD Therapy 4% CBD - Flor de Cañamo',\n",
       "  'website': 'https://top-garden.net/es/flor-de-cbd/flor-de-cbd-therapy-4-cbd-flor-de-canamo',\n",
       "  'price': '12,49 €'},\n",
       " {'Product': 'Flor de CBD Silver Bud 5% CBD - Flor de Cañamo',\n",
       "  'website': 'https://top-garden.net/es/flor-de-cbd/flor-de-cbd-silver-bud-5-cbd-flor-de-canamo',\n",
       "  'price': '13,50 €'},\n",
       " {'Product': 'Flor de CBD Kompolti 8% CBD Alentejo Sunset - Flor de Cañamo',\n",
       "  'website': 'https://top-garden.net/es/flor-de-cbd/flor-de-cbd-kompolti-8-cbd-alentejo-sunset-flor-de-canamo',\n",
       "  'price': '17,99 €'},\n",
       " {'Product': 'Ice Moonrock CBD 34% CBD - Flor de Cañamo',\n",
       "  'website': 'https://top-garden.net/es/flor-de-cbd/ice-moonrock-cbd-34-cbd-flor-de-canamo',\n",
       "  'price': '25,99 €'},\n",
       " {'Product': 'Moonrock CBG 40% - Flor de Cañamo',\n",
       "  'website': 'https://top-garden.net/es/flor-de-cbd/moonrock-cbg-40-flor-de-canamo',\n",
       "  'price': '26,99 €'},\n",
       " {'Product': 'Flor de CBD Rollex OG 5% CBD - Flor de Cañamo',\n",
       "  'website': 'https://top-garden.net/es/flor-de-cbd/flor-de-cbd-rollex-og-5-cbd-flor-de-canamo',\n",
       "  'price': '25,99 €'},\n",
       " {'Product': 'Flor de CBD Cashmere Leaf 5% CBD - Flor de Cañamo',\n",
       "  'website': 'https://top-garden.net/es/flor-de-cbd/flor-de-cbd-cashmere-leaf-5-cbd-flor-de-canamo',\n",
       "  'price': '24,99 €'},\n",
       " {'Product': 'Flor de CBG White Widow 6% CBG - Flor de Cañamo',\n",
       "  'website': 'https://top-garden.net/es/flor-de-cbd/flor-de-cbg-white-widow-6-cbg-flor-de-canamo',\n",
       "  'price': '10,99 €'},\n",
       " {'Product': 'Flor de CBG Amnesia 6% CBG - Flor de Cañamo',\n",
       "  'website': 'https://top-garden.net/es/flor-de-cbd/flor-de-cbg-amnesia-6-cbg-flor-de-canamo',\n",
       "  'price': '10,99 €'}]"
      ]
     },
     "execution_count": 148,
     "metadata": {},
     "output_type": "execute_result"
    }
   ],
   "source": [
    "Scrapin_garden"
   ]
  },
  {
   "cell_type": "code",
   "execution_count": 178,
   "metadata": {},
   "outputs": [],
   "source": [
    "df = pd.DataFrame(Scrapin_garden)"
   ]
  },
  {
   "cell_type": "code",
   "execution_count": 179,
   "metadata": {},
   "outputs": [
    {
     "data": {
      "text/html": [
       "<div>\n",
       "<style scoped>\n",
       "    .dataframe tbody tr th:only-of-type {\n",
       "        vertical-align: middle;\n",
       "    }\n",
       "\n",
       "    .dataframe tbody tr th {\n",
       "        vertical-align: top;\n",
       "    }\n",
       "\n",
       "    .dataframe thead th {\n",
       "        text-align: right;\n",
       "    }\n",
       "</style>\n",
       "<table border=\"1\" class=\"dataframe\">\n",
       "  <thead>\n",
       "    <tr style=\"text-align: right;\">\n",
       "      <th></th>\n",
       "      <th>Product</th>\n",
       "      <th>website</th>\n",
       "      <th>price</th>\n",
       "    </tr>\n",
       "  </thead>\n",
       "  <tbody>\n",
       "    <tr>\n",
       "      <th>0</th>\n",
       "      <td>Flor de CBD Bubblegum 4% CBD - Flor de Cañamo</td>\n",
       "      <td>https://top-garden.net/es/flor-de-cbd/flor-de-...</td>\n",
       "      <td>13,50 €</td>\n",
       "    </tr>\n",
       "    <tr>\n",
       "      <th>1</th>\n",
       "      <td>Flor de CBD Cannatonic 4% CBD - Flor de Cañamo</td>\n",
       "      <td>https://top-garden.net/es/flor-de-cbd/flor-de-...</td>\n",
       "      <td>13,50 €</td>\n",
       "    </tr>\n",
       "    <tr>\n",
       "      <th>2</th>\n",
       "      <td>Flor de CBD Orange Bud 3% CBD - Flor de Cañamo</td>\n",
       "      <td>https://top-garden.net/es/flor-de-cbd/flor-de-...</td>\n",
       "      <td>13,50 €</td>\n",
       "    </tr>\n",
       "    <tr>\n",
       "      <th>3</th>\n",
       "      <td>Flor de CBD Candy Kush 5% CBD - Flor de Cañamo</td>\n",
       "      <td>https://top-garden.net/es/flor-de-cbd/flor-de-...</td>\n",
       "      <td>13,50 €</td>\n",
       "    </tr>\n",
       "    <tr>\n",
       "      <th>4</th>\n",
       "      <td>Flor de CBD Cheese 4% CBD - Flor de Cañamo</td>\n",
       "      <td>https://top-garden.net/es/flor-de-cbd/flor-de-...</td>\n",
       "      <td>13,50 €</td>\n",
       "    </tr>\n",
       "  </tbody>\n",
       "</table>\n",
       "</div>"
      ],
      "text/plain": [
       "                                          Product  \\\n",
       "0   Flor de CBD Bubblegum 4% CBD - Flor de Cañamo   \n",
       "1  Flor de CBD Cannatonic 4% CBD - Flor de Cañamo   \n",
       "2  Flor de CBD Orange Bud 3% CBD - Flor de Cañamo   \n",
       "3  Flor de CBD Candy Kush 5% CBD - Flor de Cañamo   \n",
       "4      Flor de CBD Cheese 4% CBD - Flor de Cañamo   \n",
       "\n",
       "                                             website    price  \n",
       "0  https://top-garden.net/es/flor-de-cbd/flor-de-...  13,50 €  \n",
       "1  https://top-garden.net/es/flor-de-cbd/flor-de-...  13,50 €  \n",
       "2  https://top-garden.net/es/flor-de-cbd/flor-de-...  13,50 €  \n",
       "3  https://top-garden.net/es/flor-de-cbd/flor-de-...  13,50 €  \n",
       "4  https://top-garden.net/es/flor-de-cbd/flor-de-...  13,50 €  "
      ]
     },
     "execution_count": 179,
     "metadata": {},
     "output_type": "execute_result"
    }
   ],
   "source": [
    "df.head()"
   ]
  },
  {
   "cell_type": "code",
   "execution_count": 182,
   "metadata": {},
   "outputs": [],
   "source": [
    "df['Product']= df['Product'].str.replace('Flor de CBD', '')\n",
    "df['Product']= df['Product'].str.replace('- Flor de Cañamo', '')\n",
    "df['Product']= df['Product'].str.replace('Flor de CBG', '')"
   ]
  },
  {
   "cell_type": "code",
   "execution_count": 184,
   "metadata": {},
   "outputs": [
    {
     "data": {
      "text/html": [
       "<div>\n",
       "<style scoped>\n",
       "    .dataframe tbody tr th:only-of-type {\n",
       "        vertical-align: middle;\n",
       "    }\n",
       "\n",
       "    .dataframe tbody tr th {\n",
       "        vertical-align: top;\n",
       "    }\n",
       "\n",
       "    .dataframe thead th {\n",
       "        text-align: right;\n",
       "    }\n",
       "</style>\n",
       "<table border=\"1\" class=\"dataframe\">\n",
       "  <thead>\n",
       "    <tr style=\"text-align: right;\">\n",
       "      <th></th>\n",
       "      <th>Product</th>\n",
       "      <th>website</th>\n",
       "      <th>price</th>\n",
       "    </tr>\n",
       "  </thead>\n",
       "  <tbody>\n",
       "    <tr>\n",
       "      <th>0</th>\n",
       "      <td>Bubblegum 4% CBD</td>\n",
       "      <td>https://top-garden.net/es/flor-de-cbd/flor-de-...</td>\n",
       "      <td>13,50 €</td>\n",
       "    </tr>\n",
       "    <tr>\n",
       "      <th>1</th>\n",
       "      <td>Cannatonic 4% CBD</td>\n",
       "      <td>https://top-garden.net/es/flor-de-cbd/flor-de-...</td>\n",
       "      <td>13,50 €</td>\n",
       "    </tr>\n",
       "    <tr>\n",
       "      <th>2</th>\n",
       "      <td>Orange Bud 3% CBD</td>\n",
       "      <td>https://top-garden.net/es/flor-de-cbd/flor-de-...</td>\n",
       "      <td>13,50 €</td>\n",
       "    </tr>\n",
       "    <tr>\n",
       "      <th>3</th>\n",
       "      <td>Candy Kush 5% CBD</td>\n",
       "      <td>https://top-garden.net/es/flor-de-cbd/flor-de-...</td>\n",
       "      <td>13,50 €</td>\n",
       "    </tr>\n",
       "    <tr>\n",
       "      <th>4</th>\n",
       "      <td>Cheese 4% CBD</td>\n",
       "      <td>https://top-garden.net/es/flor-de-cbd/flor-de-...</td>\n",
       "      <td>13,50 €</td>\n",
       "    </tr>\n",
       "  </tbody>\n",
       "</table>\n",
       "</div>"
      ],
      "text/plain": [
       "               Product                                            website  \\\n",
       "0    Bubblegum 4% CBD   https://top-garden.net/es/flor-de-cbd/flor-de-...   \n",
       "1   Cannatonic 4% CBD   https://top-garden.net/es/flor-de-cbd/flor-de-...   \n",
       "2   Orange Bud 3% CBD   https://top-garden.net/es/flor-de-cbd/flor-de-...   \n",
       "3   Candy Kush 5% CBD   https://top-garden.net/es/flor-de-cbd/flor-de-...   \n",
       "4       Cheese 4% CBD   https://top-garden.net/es/flor-de-cbd/flor-de-...   \n",
       "\n",
       "     price  \n",
       "0  13,50 €  \n",
       "1  13,50 €  \n",
       "2  13,50 €  \n",
       "3  13,50 €  \n",
       "4  13,50 €  "
      ]
     },
     "execution_count": 184,
     "metadata": {},
     "output_type": "execute_result"
    }
   ],
   "source": [
    "df.head()"
   ]
  },
  {
   "cell_type": "code",
   "execution_count": 185,
   "metadata": {},
   "outputs": [],
   "source": [
    "df.to_csv('scrapin_garden')"
   ]
  },
  {
   "cell_type": "markdown",
   "metadata": {},
   "source": [
    "#### Scrapping cbdhouse:"
   ]
  },
  {
   "cell_type": "code",
   "execution_count": 232,
   "metadata": {},
   "outputs": [],
   "source": [
    "def scrapcbdhouse():\n",
    "    driver.get('https://cbdhousemadrid.com/collections/cbd-flores') \n",
    "    try:\n",
    "        driver.find_element_by_id('shopify-privacy-banner-accept-button').click()\n",
    "    except:\n",
    "        pageInfo = []\n",
    "        searchResults = driver.find_elements_by_class_name('grid-product__content')\n",
    "        for result in searchResults:\n",
    "                element = result.find_element_by_css_selector('a')\n",
    "                sleep(2)\n",
    "                link = element.get_attribute('href')\n",
    "                product = result.find_element_by_class_name('grid-product__title').text\n",
    "\n",
    "                precio = result.find_element_by_class_name('grid-product__price').text\n",
    "                sleep(2)\n",
    "                pageInfo.append({'Product': product, \"website\": link, 'price':precio })\n",
    "        return pageInfo"
   ]
  },
  {
   "cell_type": "code",
   "execution_count": 233,
   "metadata": {},
   "outputs": [],
   "source": [
    "scrap_cbdhouse= scrapcbdhouse()"
   ]
  },
  {
   "cell_type": "code",
   "execution_count": 235,
   "metadata": {},
   "outputs": [
    {
     "data": {
      "text/plain": [
       "15"
      ]
     },
     "execution_count": 235,
     "metadata": {},
     "output_type": "execute_result"
    }
   ],
   "source": [
    "len(scrap_cbdhouse)"
   ]
  },
  {
   "cell_type": "code",
   "execution_count": 236,
   "metadata": {},
   "outputs": [],
   "source": [
    "scrapeo_cbdhouse = pd.DataFrame(scrap_cbdhouse)"
   ]
  },
  {
   "cell_type": "code",
   "execution_count": 238,
   "metadata": {},
   "outputs": [],
   "source": [
    "scrapeo_cbdhouse.to_csv('scrap_cbdhouse')"
   ]
  },
  {
   "cell_type": "code",
   "execution_count": null,
   "metadata": {},
   "outputs": [],
   "source": []
  }
 ],
 "metadata": {
  "kernelspec": {
   "display_name": "Python 3",
   "language": "python",
   "name": "python3"
  },
  "language_info": {
   "codemirror_mode": {
    "name": "ipython",
    "version": 3
   },
   "file_extension": ".py",
   "mimetype": "text/x-python",
   "name": "python",
   "nbconvert_exporter": "python",
   "pygments_lexer": "ipython3",
   "version": "3.9.1"
  }
 },
 "nbformat": 4,
 "nbformat_minor": 4
}
